{
 "cells": [
  {
   "cell_type": "markdown",
   "id": "af49ce56",
   "metadata": {
    "papermill": {
     "duration": 0.023701,
     "end_time": "2023-06-10T05:40:33.101367",
     "exception": false,
     "start_time": "2023-06-10T05:40:33.077666",
     "status": "completed"
    },
    "tags": []
   },
   "source": [
    "# USA accidents EDA\n",
    "\n",
    "\n",
    "This notebook and analsys is inpired from the works of @yuvrajdhepe and\n",
    "Data Source : Kaggle, Information about accidents\n",
    "\n",
    "Use : can be useful to prevent accidents\n"
   ]
  },
  {
   "cell_type": "markdown",
   "id": "2f9bd52a",
   "metadata": {
    "papermill": {
     "duration": 0.022457,
     "end_time": "2023-06-10T05:40:33.147295",
     "exception": false,
     "start_time": "2023-06-10T05:40:33.124838",
     "status": "completed"
    },
    "tags": []
   },
   "source": [
    "## Initialization & Download data\n",
    "\n",
    "1.Load the file using Pandas\n",
    "\n",
    "2.look at some information about the data & the data the column"
   ]
  },
  {
   "cell_type": "code",
   "execution_count": 1,
   "id": "5a32a077",
   "metadata": {
    "_cell_guid": "25be2bc6-1aaf-4bdd-adff-2ad364c32823",
    "_uuid": "db103c45-39fc-4468-9675-84cd49db2940",
    "collapsed": false,
    "execution": {
     "iopub.execute_input": "2023-06-10T05:40:33.196173Z",
     "iopub.status.busy": "2023-06-10T05:40:33.195333Z",
     "iopub.status.idle": "2023-06-10T05:40:33.216578Z",
     "shell.execute_reply": "2023-06-10T05:40:33.215345Z"
    },
    "jupyter": {
     "outputs_hidden": false
    },
    "papermill": {
     "duration": 0.048896,
     "end_time": "2023-06-10T05:40:33.219296",
     "exception": false,
     "start_time": "2023-06-10T05:40:33.170400",
     "status": "completed"
    },
    "tags": []
   },
   "outputs": [
    {
     "name": "stdout",
     "output_type": "stream",
     "text": [
      "/kaggle/input/us-accidents/US_Accidents_March23.csv\n"
     ]
    }
   ],
   "source": [
    "import numpy as np \n",
    "import pandas as pd\n",
    "import os\n",
    "for dirname, _, filenames in os.walk('/kaggle/input'):\n",
    "    for filename in filenames:\n",
    "        print(os.path.join(dirname, filename))\n",
    "        "
   ]
  },
  {
   "cell_type": "code",
   "execution_count": 2,
   "id": "dd217996",
   "metadata": {
    "execution": {
     "iopub.execute_input": "2023-06-10T05:40:33.267407Z",
     "iopub.status.busy": "2023-06-10T05:40:33.267044Z",
     "iopub.status.idle": "2023-06-10T05:42:37.515404Z",
     "shell.execute_reply": "2023-06-10T05:42:37.513908Z"
    },
    "papermill": {
     "duration": 124.275935,
     "end_time": "2023-06-10T05:42:37.518611",
     "exception": false,
     "start_time": "2023-06-10T05:40:33.242676",
     "status": "completed"
    },
    "tags": []
   },
   "outputs": [],
   "source": [
    "data = pd.read_csv('/kaggle/input/us-accidents/US_Accidents_March23.csv')"
   ]
  },
  {
   "cell_type": "code",
   "execution_count": 3,
   "id": "ab9bd022",
   "metadata": {
    "execution": {
     "iopub.execute_input": "2023-06-10T05:42:37.566639Z",
     "iopub.status.busy": "2023-06-10T05:42:37.566229Z",
     "iopub.status.idle": "2023-06-10T05:42:39.800069Z",
     "shell.execute_reply": "2023-06-10T05:42:39.799050Z"
    },
    "papermill": {
     "duration": 2.260847,
     "end_time": "2023-06-10T05:42:39.802840",
     "exception": false,
     "start_time": "2023-06-10T05:42:37.541993",
     "status": "completed"
    },
    "tags": []
   },
   "outputs": [],
   "source": [
    "import seaborn as sns\n",
    "sns.set_style('darkgrid')\n",
    "import matplotlib.pyplot as plt\n",
    "%matplotlib inline\n",
    "import plotly.graph_objects as go\n",
    "import plotly\n",
    "import plotly.offline as iplot\n",
    "import plotly.express as px\n"
   ]
  },
  {
   "cell_type": "code",
   "execution_count": 4,
   "id": "5f243938",
   "metadata": {
    "execution": {
     "iopub.execute_input": "2023-06-10T05:42:39.850469Z",
     "iopub.status.busy": "2023-06-10T05:42:39.850087Z",
     "iopub.status.idle": "2023-06-10T05:42:39.905188Z",
     "shell.execute_reply": "2023-06-10T05:42:39.903864Z"
    },
    "papermill": {
     "duration": 0.082126,
     "end_time": "2023-06-10T05:42:39.907945",
     "exception": false,
     "start_time": "2023-06-10T05:42:39.825819",
     "status": "completed"
    },
    "tags": []
   },
   "outputs": [
    {
     "data": {
      "text/html": [
       "<div>\n",
       "<style scoped>\n",
       "    .dataframe tbody tr th:only-of-type {\n",
       "        vertical-align: middle;\n",
       "    }\n",
       "\n",
       "    .dataframe tbody tr th {\n",
       "        vertical-align: top;\n",
       "    }\n",
       "\n",
       "    .dataframe thead th {\n",
       "        text-align: right;\n",
       "    }\n",
       "</style>\n",
       "<table border=\"1\" class=\"dataframe\">\n",
       "  <thead>\n",
       "    <tr style=\"text-align: right;\">\n",
       "      <th></th>\n",
       "      <th>ID</th>\n",
       "      <th>Source</th>\n",
       "      <th>Severity</th>\n",
       "      <th>Start_Time</th>\n",
       "      <th>End_Time</th>\n",
       "      <th>Start_Lat</th>\n",
       "      <th>Start_Lng</th>\n",
       "      <th>End_Lat</th>\n",
       "      <th>End_Lng</th>\n",
       "      <th>Distance(mi)</th>\n",
       "      <th>...</th>\n",
       "      <th>Roundabout</th>\n",
       "      <th>Station</th>\n",
       "      <th>Stop</th>\n",
       "      <th>Traffic_Calming</th>\n",
       "      <th>Traffic_Signal</th>\n",
       "      <th>Turning_Loop</th>\n",
       "      <th>Sunrise_Sunset</th>\n",
       "      <th>Civil_Twilight</th>\n",
       "      <th>Nautical_Twilight</th>\n",
       "      <th>Astronomical_Twilight</th>\n",
       "    </tr>\n",
       "  </thead>\n",
       "  <tbody>\n",
       "    <tr>\n",
       "      <th>0</th>\n",
       "      <td>A-1</td>\n",
       "      <td>Source2</td>\n",
       "      <td>3</td>\n",
       "      <td>2016-02-08 05:46:00</td>\n",
       "      <td>2016-02-08 11:00:00</td>\n",
       "      <td>39.865147</td>\n",
       "      <td>-84.058723</td>\n",
       "      <td>NaN</td>\n",
       "      <td>NaN</td>\n",
       "      <td>0.01</td>\n",
       "      <td>...</td>\n",
       "      <td>False</td>\n",
       "      <td>False</td>\n",
       "      <td>False</td>\n",
       "      <td>False</td>\n",
       "      <td>False</td>\n",
       "      <td>False</td>\n",
       "      <td>Night</td>\n",
       "      <td>Night</td>\n",
       "      <td>Night</td>\n",
       "      <td>Night</td>\n",
       "    </tr>\n",
       "    <tr>\n",
       "      <th>1</th>\n",
       "      <td>A-2</td>\n",
       "      <td>Source2</td>\n",
       "      <td>2</td>\n",
       "      <td>2016-02-08 06:07:59</td>\n",
       "      <td>2016-02-08 06:37:59</td>\n",
       "      <td>39.928059</td>\n",
       "      <td>-82.831184</td>\n",
       "      <td>NaN</td>\n",
       "      <td>NaN</td>\n",
       "      <td>0.01</td>\n",
       "      <td>...</td>\n",
       "      <td>False</td>\n",
       "      <td>False</td>\n",
       "      <td>False</td>\n",
       "      <td>False</td>\n",
       "      <td>False</td>\n",
       "      <td>False</td>\n",
       "      <td>Night</td>\n",
       "      <td>Night</td>\n",
       "      <td>Night</td>\n",
       "      <td>Day</td>\n",
       "    </tr>\n",
       "    <tr>\n",
       "      <th>2</th>\n",
       "      <td>A-3</td>\n",
       "      <td>Source2</td>\n",
       "      <td>2</td>\n",
       "      <td>2016-02-08 06:49:27</td>\n",
       "      <td>2016-02-08 07:19:27</td>\n",
       "      <td>39.063148</td>\n",
       "      <td>-84.032608</td>\n",
       "      <td>NaN</td>\n",
       "      <td>NaN</td>\n",
       "      <td>0.01</td>\n",
       "      <td>...</td>\n",
       "      <td>False</td>\n",
       "      <td>False</td>\n",
       "      <td>False</td>\n",
       "      <td>False</td>\n",
       "      <td>True</td>\n",
       "      <td>False</td>\n",
       "      <td>Night</td>\n",
       "      <td>Night</td>\n",
       "      <td>Day</td>\n",
       "      <td>Day</td>\n",
       "    </tr>\n",
       "    <tr>\n",
       "      <th>3</th>\n",
       "      <td>A-4</td>\n",
       "      <td>Source2</td>\n",
       "      <td>3</td>\n",
       "      <td>2016-02-08 07:23:34</td>\n",
       "      <td>2016-02-08 07:53:34</td>\n",
       "      <td>39.747753</td>\n",
       "      <td>-84.205582</td>\n",
       "      <td>NaN</td>\n",
       "      <td>NaN</td>\n",
       "      <td>0.01</td>\n",
       "      <td>...</td>\n",
       "      <td>False</td>\n",
       "      <td>False</td>\n",
       "      <td>False</td>\n",
       "      <td>False</td>\n",
       "      <td>False</td>\n",
       "      <td>False</td>\n",
       "      <td>Night</td>\n",
       "      <td>Day</td>\n",
       "      <td>Day</td>\n",
       "      <td>Day</td>\n",
       "    </tr>\n",
       "    <tr>\n",
       "      <th>4</th>\n",
       "      <td>A-5</td>\n",
       "      <td>Source2</td>\n",
       "      <td>2</td>\n",
       "      <td>2016-02-08 07:39:07</td>\n",
       "      <td>2016-02-08 08:09:07</td>\n",
       "      <td>39.627781</td>\n",
       "      <td>-84.188354</td>\n",
       "      <td>NaN</td>\n",
       "      <td>NaN</td>\n",
       "      <td>0.01</td>\n",
       "      <td>...</td>\n",
       "      <td>False</td>\n",
       "      <td>False</td>\n",
       "      <td>False</td>\n",
       "      <td>False</td>\n",
       "      <td>True</td>\n",
       "      <td>False</td>\n",
       "      <td>Day</td>\n",
       "      <td>Day</td>\n",
       "      <td>Day</td>\n",
       "      <td>Day</td>\n",
       "    </tr>\n",
       "  </tbody>\n",
       "</table>\n",
       "<p>5 rows × 46 columns</p>\n",
       "</div>"
      ],
      "text/plain": [
       "    ID   Source  Severity           Start_Time             End_Time  \\\n",
       "0  A-1  Source2         3  2016-02-08 05:46:00  2016-02-08 11:00:00   \n",
       "1  A-2  Source2         2  2016-02-08 06:07:59  2016-02-08 06:37:59   \n",
       "2  A-3  Source2         2  2016-02-08 06:49:27  2016-02-08 07:19:27   \n",
       "3  A-4  Source2         3  2016-02-08 07:23:34  2016-02-08 07:53:34   \n",
       "4  A-5  Source2         2  2016-02-08 07:39:07  2016-02-08 08:09:07   \n",
       "\n",
       "   Start_Lat  Start_Lng  End_Lat  End_Lng  Distance(mi)  ... Roundabout  \\\n",
       "0  39.865147 -84.058723      NaN      NaN          0.01  ...      False   \n",
       "1  39.928059 -82.831184      NaN      NaN          0.01  ...      False   \n",
       "2  39.063148 -84.032608      NaN      NaN          0.01  ...      False   \n",
       "3  39.747753 -84.205582      NaN      NaN          0.01  ...      False   \n",
       "4  39.627781 -84.188354      NaN      NaN          0.01  ...      False   \n",
       "\n",
       "  Station   Stop Traffic_Calming Traffic_Signal Turning_Loop Sunrise_Sunset  \\\n",
       "0   False  False           False          False        False          Night   \n",
       "1   False  False           False          False        False          Night   \n",
       "2   False  False           False           True        False          Night   \n",
       "3   False  False           False          False        False          Night   \n",
       "4   False  False           False           True        False            Day   \n",
       "\n",
       "  Civil_Twilight Nautical_Twilight Astronomical_Twilight  \n",
       "0          Night             Night                 Night  \n",
       "1          Night             Night                   Day  \n",
       "2          Night               Day                   Day  \n",
       "3            Day               Day                   Day  \n",
       "4            Day               Day                   Day  \n",
       "\n",
       "[5 rows x 46 columns]"
      ]
     },
     "execution_count": 4,
     "metadata": {},
     "output_type": "execute_result"
    }
   ],
   "source": [
    "data.head()"
   ]
  },
  {
   "cell_type": "code",
   "execution_count": 5,
   "id": "5ffd10c8",
   "metadata": {
    "execution": {
     "iopub.execute_input": "2023-06-10T05:42:39.957487Z",
     "iopub.status.busy": "2023-06-10T05:42:39.957090Z",
     "iopub.status.idle": "2023-06-10T05:42:39.964617Z",
     "shell.execute_reply": "2023-06-10T05:42:39.963569Z"
    },
    "papermill": {
     "duration": 0.035392,
     "end_time": "2023-06-10T05:42:39.967109",
     "exception": false,
     "start_time": "2023-06-10T05:42:39.931717",
     "status": "completed"
    },
    "tags": []
   },
   "outputs": [
    {
     "data": {
      "text/plain": [
       "Index(['ID', 'Source', 'Severity', 'Start_Time', 'End_Time', 'Start_Lat',\n",
       "       'Start_Lng', 'End_Lat', 'End_Lng', 'Distance(mi)', 'Description',\n",
       "       'Street', 'City', 'County', 'State', 'Zipcode', 'Country', 'Timezone',\n",
       "       'Airport_Code', 'Weather_Timestamp', 'Temperature(F)', 'Wind_Chill(F)',\n",
       "       'Humidity(%)', 'Pressure(in)', 'Visibility(mi)', 'Wind_Direction',\n",
       "       'Wind_Speed(mph)', 'Precipitation(in)', 'Weather_Condition', 'Amenity',\n",
       "       'Bump', 'Crossing', 'Give_Way', 'Junction', 'No_Exit', 'Railway',\n",
       "       'Roundabout', 'Station', 'Stop', 'Traffic_Calming', 'Traffic_Signal',\n",
       "       'Turning_Loop', 'Sunrise_Sunset', 'Civil_Twilight', 'Nautical_Twilight',\n",
       "       'Astronomical_Twilight'],\n",
       "      dtype='object')"
      ]
     },
     "execution_count": 5,
     "metadata": {},
     "output_type": "execute_result"
    }
   ],
   "source": [
    "data.columns"
   ]
  },
  {
   "cell_type": "code",
   "execution_count": 6,
   "id": "49721b67",
   "metadata": {
    "execution": {
     "iopub.execute_input": "2023-06-10T05:42:40.016479Z",
     "iopub.status.busy": "2023-06-10T05:42:40.016098Z",
     "iopub.status.idle": "2023-06-10T05:42:40.022923Z",
     "shell.execute_reply": "2023-06-10T05:42:40.021865Z"
    },
    "papermill": {
     "duration": 0.033828,
     "end_time": "2023-06-10T05:42:40.025049",
     "exception": false,
     "start_time": "2023-06-10T05:42:39.991221",
     "status": "completed"
    },
    "tags": []
   },
   "outputs": [
    {
     "data": {
      "text/plain": [
       "46"
      ]
     },
     "execution_count": 6,
     "metadata": {},
     "output_type": "execute_result"
    }
   ],
   "source": [
    "len(data.columns)"
   ]
  },
  {
   "cell_type": "code",
   "execution_count": 7,
   "id": "e4180011",
   "metadata": {
    "execution": {
     "iopub.execute_input": "2023-06-10T05:42:40.074815Z",
     "iopub.status.busy": "2023-06-10T05:42:40.074435Z",
     "iopub.status.idle": "2023-06-10T05:42:40.100342Z",
     "shell.execute_reply": "2023-06-10T05:42:40.099189Z"
    },
    "papermill": {
     "duration": 0.053569,
     "end_time": "2023-06-10T05:42:40.102930",
     "exception": false,
     "start_time": "2023-06-10T05:42:40.049361",
     "status": "completed"
    },
    "tags": []
   },
   "outputs": [
    {
     "name": "stdout",
     "output_type": "stream",
     "text": [
      "<class 'pandas.core.frame.DataFrame'>\n",
      "RangeIndex: 7728394 entries, 0 to 7728393\n",
      "Data columns (total 46 columns):\n",
      " #   Column                 Dtype  \n",
      "---  ------                 -----  \n",
      " 0   ID                     object \n",
      " 1   Source                 object \n",
      " 2   Severity               int64  \n",
      " 3   Start_Time             object \n",
      " 4   End_Time               object \n",
      " 5   Start_Lat              float64\n",
      " 6   Start_Lng              float64\n",
      " 7   End_Lat                float64\n",
      " 8   End_Lng                float64\n",
      " 9   Distance(mi)           float64\n",
      " 10  Description            object \n",
      " 11  Street                 object \n",
      " 12  City                   object \n",
      " 13  County                 object \n",
      " 14  State                  object \n",
      " 15  Zipcode                object \n",
      " 16  Country                object \n",
      " 17  Timezone               object \n",
      " 18  Airport_Code           object \n",
      " 19  Weather_Timestamp      object \n",
      " 20  Temperature(F)         float64\n",
      " 21  Wind_Chill(F)          float64\n",
      " 22  Humidity(%)            float64\n",
      " 23  Pressure(in)           float64\n",
      " 24  Visibility(mi)         float64\n",
      " 25  Wind_Direction         object \n",
      " 26  Wind_Speed(mph)        float64\n",
      " 27  Precipitation(in)      float64\n",
      " 28  Weather_Condition      object \n",
      " 29  Amenity                bool   \n",
      " 30  Bump                   bool   \n",
      " 31  Crossing               bool   \n",
      " 32  Give_Way               bool   \n",
      " 33  Junction               bool   \n",
      " 34  No_Exit                bool   \n",
      " 35  Railway                bool   \n",
      " 36  Roundabout             bool   \n",
      " 37  Station                bool   \n",
      " 38  Stop                   bool   \n",
      " 39  Traffic_Calming        bool   \n",
      " 40  Traffic_Signal         bool   \n",
      " 41  Turning_Loop           bool   \n",
      " 42  Sunrise_Sunset         object \n",
      " 43  Civil_Twilight         object \n",
      " 44  Nautical_Twilight      object \n",
      " 45  Astronomical_Twilight  object \n",
      "dtypes: bool(13), float64(12), int64(1), object(20)\n",
      "memory usage: 2.0+ GB\n"
     ]
    }
   ],
   "source": [
    "data.info()"
   ]
  },
  {
   "cell_type": "code",
   "execution_count": 8,
   "id": "5000537c",
   "metadata": {
    "execution": {
     "iopub.execute_input": "2023-06-10T05:42:40.152917Z",
     "iopub.status.busy": "2023-06-10T05:42:40.151886Z",
     "iopub.status.idle": "2023-06-10T05:42:44.818885Z",
     "shell.execute_reply": "2023-06-10T05:42:44.817779Z"
    },
    "papermill": {
     "duration": 4.694758,
     "end_time": "2023-06-10T05:42:44.821611",
     "exception": false,
     "start_time": "2023-06-10T05:42:40.126853",
     "status": "completed"
    },
    "tags": []
   },
   "outputs": [
    {
     "data": {
      "text/html": [
       "<div>\n",
       "<style scoped>\n",
       "    .dataframe tbody tr th:only-of-type {\n",
       "        vertical-align: middle;\n",
       "    }\n",
       "\n",
       "    .dataframe tbody tr th {\n",
       "        vertical-align: top;\n",
       "    }\n",
       "\n",
       "    .dataframe thead th {\n",
       "        text-align: right;\n",
       "    }\n",
       "</style>\n",
       "<table border=\"1\" class=\"dataframe\">\n",
       "  <thead>\n",
       "    <tr style=\"text-align: right;\">\n",
       "      <th></th>\n",
       "      <th>Severity</th>\n",
       "      <th>Start_Lat</th>\n",
       "      <th>Start_Lng</th>\n",
       "      <th>End_Lat</th>\n",
       "      <th>End_Lng</th>\n",
       "      <th>Distance(mi)</th>\n",
       "      <th>Temperature(F)</th>\n",
       "      <th>Wind_Chill(F)</th>\n",
       "      <th>Humidity(%)</th>\n",
       "      <th>Pressure(in)</th>\n",
       "      <th>Visibility(mi)</th>\n",
       "      <th>Wind_Speed(mph)</th>\n",
       "      <th>Precipitation(in)</th>\n",
       "    </tr>\n",
       "  </thead>\n",
       "  <tbody>\n",
       "    <tr>\n",
       "      <th>count</th>\n",
       "      <td>7.728394e+06</td>\n",
       "      <td>7.728394e+06</td>\n",
       "      <td>7.728394e+06</td>\n",
       "      <td>4.325632e+06</td>\n",
       "      <td>4.325632e+06</td>\n",
       "      <td>7.728394e+06</td>\n",
       "      <td>7.564541e+06</td>\n",
       "      <td>5.729375e+06</td>\n",
       "      <td>7.554250e+06</td>\n",
       "      <td>7.587715e+06</td>\n",
       "      <td>7.551296e+06</td>\n",
       "      <td>7.157161e+06</td>\n",
       "      <td>5.524808e+06</td>\n",
       "    </tr>\n",
       "    <tr>\n",
       "      <th>mean</th>\n",
       "      <td>2.212384e+00</td>\n",
       "      <td>3.620119e+01</td>\n",
       "      <td>-9.470255e+01</td>\n",
       "      <td>3.626183e+01</td>\n",
       "      <td>-9.572557e+01</td>\n",
       "      <td>5.618423e-01</td>\n",
       "      <td>6.166329e+01</td>\n",
       "      <td>5.825105e+01</td>\n",
       "      <td>6.483104e+01</td>\n",
       "      <td>2.953899e+01</td>\n",
       "      <td>9.090376e+00</td>\n",
       "      <td>7.685490e+00</td>\n",
       "      <td>8.407210e-03</td>\n",
       "    </tr>\n",
       "    <tr>\n",
       "      <th>std</th>\n",
       "      <td>4.875313e-01</td>\n",
       "      <td>5.076079e+00</td>\n",
       "      <td>1.739176e+01</td>\n",
       "      <td>5.272905e+00</td>\n",
       "      <td>1.810793e+01</td>\n",
       "      <td>1.776811e+00</td>\n",
       "      <td>1.901365e+01</td>\n",
       "      <td>2.238983e+01</td>\n",
       "      <td>2.282097e+01</td>\n",
       "      <td>1.006190e+00</td>\n",
       "      <td>2.688316e+00</td>\n",
       "      <td>5.424983e+00</td>\n",
       "      <td>1.102246e-01</td>\n",
       "    </tr>\n",
       "    <tr>\n",
       "      <th>min</th>\n",
       "      <td>1.000000e+00</td>\n",
       "      <td>2.455480e+01</td>\n",
       "      <td>-1.246238e+02</td>\n",
       "      <td>2.456601e+01</td>\n",
       "      <td>-1.245457e+02</td>\n",
       "      <td>0.000000e+00</td>\n",
       "      <td>-8.900000e+01</td>\n",
       "      <td>-8.900000e+01</td>\n",
       "      <td>1.000000e+00</td>\n",
       "      <td>0.000000e+00</td>\n",
       "      <td>0.000000e+00</td>\n",
       "      <td>0.000000e+00</td>\n",
       "      <td>0.000000e+00</td>\n",
       "    </tr>\n",
       "    <tr>\n",
       "      <th>25%</th>\n",
       "      <td>2.000000e+00</td>\n",
       "      <td>3.339963e+01</td>\n",
       "      <td>-1.172194e+02</td>\n",
       "      <td>3.346207e+01</td>\n",
       "      <td>-1.177543e+02</td>\n",
       "      <td>0.000000e+00</td>\n",
       "      <td>4.900000e+01</td>\n",
       "      <td>4.300000e+01</td>\n",
       "      <td>4.800000e+01</td>\n",
       "      <td>2.937000e+01</td>\n",
       "      <td>1.000000e+01</td>\n",
       "      <td>4.600000e+00</td>\n",
       "      <td>0.000000e+00</td>\n",
       "    </tr>\n",
       "    <tr>\n",
       "      <th>50%</th>\n",
       "      <td>2.000000e+00</td>\n",
       "      <td>3.582397e+01</td>\n",
       "      <td>-8.776662e+01</td>\n",
       "      <td>3.618349e+01</td>\n",
       "      <td>-8.802789e+01</td>\n",
       "      <td>3.000000e-02</td>\n",
       "      <td>6.400000e+01</td>\n",
       "      <td>6.200000e+01</td>\n",
       "      <td>6.700000e+01</td>\n",
       "      <td>2.986000e+01</td>\n",
       "      <td>1.000000e+01</td>\n",
       "      <td>7.000000e+00</td>\n",
       "      <td>0.000000e+00</td>\n",
       "    </tr>\n",
       "    <tr>\n",
       "      <th>75%</th>\n",
       "      <td>2.000000e+00</td>\n",
       "      <td>4.008496e+01</td>\n",
       "      <td>-8.035368e+01</td>\n",
       "      <td>4.017892e+01</td>\n",
       "      <td>-8.024709e+01</td>\n",
       "      <td>4.640000e-01</td>\n",
       "      <td>7.600000e+01</td>\n",
       "      <td>7.500000e+01</td>\n",
       "      <td>8.400000e+01</td>\n",
       "      <td>3.003000e+01</td>\n",
       "      <td>1.000000e+01</td>\n",
       "      <td>1.040000e+01</td>\n",
       "      <td>0.000000e+00</td>\n",
       "    </tr>\n",
       "    <tr>\n",
       "      <th>max</th>\n",
       "      <td>4.000000e+00</td>\n",
       "      <td>4.900220e+01</td>\n",
       "      <td>-6.711317e+01</td>\n",
       "      <td>4.907500e+01</td>\n",
       "      <td>-6.710924e+01</td>\n",
       "      <td>4.417500e+02</td>\n",
       "      <td>2.070000e+02</td>\n",
       "      <td>2.070000e+02</td>\n",
       "      <td>1.000000e+02</td>\n",
       "      <td>5.863000e+01</td>\n",
       "      <td>1.400000e+02</td>\n",
       "      <td>1.087000e+03</td>\n",
       "      <td>3.647000e+01</td>\n",
       "    </tr>\n",
       "  </tbody>\n",
       "</table>\n",
       "</div>"
      ],
      "text/plain": [
       "           Severity     Start_Lat     Start_Lng       End_Lat       End_Lng  \\\n",
       "count  7.728394e+06  7.728394e+06  7.728394e+06  4.325632e+06  4.325632e+06   \n",
       "mean   2.212384e+00  3.620119e+01 -9.470255e+01  3.626183e+01 -9.572557e+01   \n",
       "std    4.875313e-01  5.076079e+00  1.739176e+01  5.272905e+00  1.810793e+01   \n",
       "min    1.000000e+00  2.455480e+01 -1.246238e+02  2.456601e+01 -1.245457e+02   \n",
       "25%    2.000000e+00  3.339963e+01 -1.172194e+02  3.346207e+01 -1.177543e+02   \n",
       "50%    2.000000e+00  3.582397e+01 -8.776662e+01  3.618349e+01 -8.802789e+01   \n",
       "75%    2.000000e+00  4.008496e+01 -8.035368e+01  4.017892e+01 -8.024709e+01   \n",
       "max    4.000000e+00  4.900220e+01 -6.711317e+01  4.907500e+01 -6.710924e+01   \n",
       "\n",
       "       Distance(mi)  Temperature(F)  Wind_Chill(F)   Humidity(%)  \\\n",
       "count  7.728394e+06    7.564541e+06   5.729375e+06  7.554250e+06   \n",
       "mean   5.618423e-01    6.166329e+01   5.825105e+01  6.483104e+01   \n",
       "std    1.776811e+00    1.901365e+01   2.238983e+01  2.282097e+01   \n",
       "min    0.000000e+00   -8.900000e+01  -8.900000e+01  1.000000e+00   \n",
       "25%    0.000000e+00    4.900000e+01   4.300000e+01  4.800000e+01   \n",
       "50%    3.000000e-02    6.400000e+01   6.200000e+01  6.700000e+01   \n",
       "75%    4.640000e-01    7.600000e+01   7.500000e+01  8.400000e+01   \n",
       "max    4.417500e+02    2.070000e+02   2.070000e+02  1.000000e+02   \n",
       "\n",
       "       Pressure(in)  Visibility(mi)  Wind_Speed(mph)  Precipitation(in)  \n",
       "count  7.587715e+06    7.551296e+06     7.157161e+06       5.524808e+06  \n",
       "mean   2.953899e+01    9.090376e+00     7.685490e+00       8.407210e-03  \n",
       "std    1.006190e+00    2.688316e+00     5.424983e+00       1.102246e-01  \n",
       "min    0.000000e+00    0.000000e+00     0.000000e+00       0.000000e+00  \n",
       "25%    2.937000e+01    1.000000e+01     4.600000e+00       0.000000e+00  \n",
       "50%    2.986000e+01    1.000000e+01     7.000000e+00       0.000000e+00  \n",
       "75%    3.003000e+01    1.000000e+01     1.040000e+01       0.000000e+00  \n",
       "max    5.863000e+01    1.400000e+02     1.087000e+03       3.647000e+01  "
      ]
     },
     "execution_count": 8,
     "metadata": {},
     "output_type": "execute_result"
    }
   ],
   "source": [
    "data.describe()"
   ]
  },
  {
   "cell_type": "markdown",
   "id": "455d5cbc",
   "metadata": {
    "papermill": {
     "duration": 0.023708,
     "end_time": "2023-06-10T05:42:44.869414",
     "exception": false,
     "start_time": "2023-06-10T05:42:44.845706",
     "status": "completed"
    },
    "tags": []
   },
   "source": [
    "Most of the accidents seems a point accidents, due to lower number of end latitude and end time values"
   ]
  },
  {
   "cell_type": "code",
   "execution_count": 9,
   "id": "c3d42b6c",
   "metadata": {
    "execution": {
     "iopub.execute_input": "2023-06-10T05:42:44.920218Z",
     "iopub.status.busy": "2023-06-10T05:42:44.919476Z",
     "iopub.status.idle": "2023-06-10T05:42:45.228589Z",
     "shell.execute_reply": "2023-06-10T05:42:45.227418Z"
    },
    "papermill": {
     "duration": 0.337508,
     "end_time": "2023-06-10T05:42:45.230898",
     "exception": false,
     "start_time": "2023-06-10T05:42:44.893390",
     "status": "completed"
    },
    "tags": []
   },
   "outputs": [
    {
     "data": {
      "text/plain": [
       "13"
      ]
     },
     "execution_count": 9,
     "metadata": {},
     "output_type": "execute_result"
    }
   ],
   "source": [
    "numerics = ['int16', 'int32', 'int64', 'float16', 'float32', 'float64']\n",
    "numdata = data.select_dtypes(include=numerics)\n",
    "len(numdata.columns)"
   ]
  },
  {
   "cell_type": "markdown",
   "id": "ab9ff481",
   "metadata": {
    "papermill": {
     "duration": 0.023987,
     "end_time": "2023-06-10T05:42:45.278936",
     "exception": false,
     "start_time": "2023-06-10T05:42:45.254949",
     "status": "completed"
    },
    "tags": []
   },
   "source": [
    "# Data Preparation and cleaning\n",
    "\n",
    "- Check missing or incorrect values"
   ]
  },
  {
   "cell_type": "markdown",
   "id": "27ace41f",
   "metadata": {
    "papermill": {
     "duration": 0.024215,
     "end_time": "2023-06-10T05:42:45.327542",
     "exception": false,
     "start_time": "2023-06-10T05:42:45.303327",
     "status": "completed"
    },
    "tags": []
   },
   "source": [
    "Missing values and thier percentage"
   ]
  },
  {
   "cell_type": "code",
   "execution_count": 10,
   "id": "31f494de",
   "metadata": {
    "execution": {
     "iopub.execute_input": "2023-06-10T05:42:45.378068Z",
     "iopub.status.busy": "2023-06-10T05:42:45.377337Z",
     "iopub.status.idle": "2023-06-10T05:43:32.771645Z",
     "shell.execute_reply": "2023-06-10T05:43:32.770339Z"
    },
    "papermill": {
     "duration": 47.443153,
     "end_time": "2023-06-10T05:43:32.794860",
     "exception": false,
     "start_time": "2023-06-10T05:42:45.351707",
     "status": "completed"
    },
    "tags": []
   },
   "outputs": [
    {
     "data": {
      "text/plain": [
       "End_Lat                  44.029355\n",
       "End_Lng                  44.029355\n",
       "Precipitation(in)        28.512858\n",
       "Wind_Chill(F)            25.865904\n",
       "Wind_Speed(mph)           7.391355\n",
       "Visibility(mi)            2.291524\n",
       "Wind_Direction            2.267043\n",
       "Humidity(%)               2.253301\n",
       "Weather_Condition         2.244438\n",
       "Temperature(F)            2.120143\n",
       "Pressure(in)              1.820288\n",
       "Weather_Timestamp         1.555666\n",
       "Nautical_Twilight         0.300787\n",
       "Civil_Twilight            0.300787\n",
       "Sunrise_Sunset            0.300787\n",
       "Astronomical_Twilight     0.300787\n",
       "Airport_Code              0.292881\n",
       "Street                    0.140637\n",
       "Timezone                  0.101030\n",
       "Zipcode                   0.024779\n",
       "City                      0.003274\n",
       "Description               0.000065\n",
       "dtype: float64"
      ]
     },
     "execution_count": 10,
     "metadata": {},
     "output_type": "execute_result"
    }
   ],
   "source": [
    "Miss_data_perc = (100* data.isna().sum().sort_values(ascending = False)/len(data))\n",
    "Miss_data_perc[Miss_data_perc != 0]"
   ]
  },
  {
   "cell_type": "code",
   "execution_count": 11,
   "id": "78d72bad",
   "metadata": {
    "execution": {
     "iopub.execute_input": "2023-06-10T05:43:32.845589Z",
     "iopub.status.busy": "2023-06-10T05:43:32.845147Z",
     "iopub.status.idle": "2023-06-10T05:43:32.853923Z",
     "shell.execute_reply": "2023-06-10T05:43:32.852813Z"
    },
    "papermill": {
     "duration": 0.037132,
     "end_time": "2023-06-10T05:43:32.856236",
     "exception": false,
     "start_time": "2023-06-10T05:43:32.819104",
     "status": "completed"
    },
    "tags": []
   },
   "outputs": [
    {
     "data": {
      "text/plain": [
       "End_Lat              44.029355\n",
       "End_Lng              44.029355\n",
       "Precipitation(in)    28.512858\n",
       "Wind_Chill(F)        25.865904\n",
       "dtype: float64"
      ]
     },
     "execution_count": 11,
     "metadata": {},
     "output_type": "execute_result"
    }
   ],
   "source": [
    "Miss_data_perc[Miss_data_perc > 25]"
   ]
  },
  {
   "cell_type": "markdown",
   "id": "61439886",
   "metadata": {
    "papermill": {
     "duration": 0.024455,
     "end_time": "2023-06-10T05:43:32.905221",
     "exception": false,
     "start_time": "2023-06-10T05:43:32.880766",
     "status": "completed"
    },
    "tags": []
   },
   "source": [
    "removing data where there are more thn 25% of missing data, and country column, for further analysis"
   ]
  },
  {
   "cell_type": "code",
   "execution_count": 12,
   "id": "832b8fba",
   "metadata": {
    "execution": {
     "iopub.execute_input": "2023-06-10T05:43:32.956655Z",
     "iopub.status.busy": "2023-06-10T05:43:32.956227Z",
     "iopub.status.idle": "2023-06-10T05:43:35.055750Z",
     "shell.execute_reply": "2023-06-10T05:43:35.054249Z"
    },
    "papermill": {
     "duration": 2.128245,
     "end_time": "2023-06-10T05:43:35.058637",
     "exception": false,
     "start_time": "2023-06-10T05:43:32.930392",
     "status": "completed"
    },
    "tags": []
   },
   "outputs": [],
   "source": [
    "#cleaning data\n",
    "dataC = data[[col for col in data.columns if col not in ['End_Lat','End_Lng', 'Precipitation(in)', 'Wind_Chill(F)', 'Country']]]"
   ]
  },
  {
   "cell_type": "markdown",
   "id": "6efbce58",
   "metadata": {
    "papermill": {
     "duration": 0.024464,
     "end_time": "2023-06-10T05:43:35.107812",
     "exception": false,
     "start_time": "2023-06-10T05:43:35.083348",
     "status": "completed"
    },
    "tags": []
   },
   "source": [
    "Check if all the states are mentioned"
   ]
  },
  {
   "cell_type": "code",
   "execution_count": 13,
   "id": "39348c4f",
   "metadata": {
    "execution": {
     "iopub.execute_input": "2023-06-10T05:43:35.158934Z",
     "iopub.status.busy": "2023-06-10T05:43:35.158535Z",
     "iopub.status.idle": "2023-06-10T05:43:36.376977Z",
     "shell.execute_reply": "2023-06-10T05:43:36.375751Z"
    },
    "papermill": {
     "duration": 1.246691,
     "end_time": "2023-06-10T05:43:36.379492",
     "exception": false,
     "start_time": "2023-06-10T05:43:35.132801",
     "status": "completed"
    },
    "tags": []
   },
   "outputs": [
    {
     "data": {
      "text/plain": [
       "49"
      ]
     },
     "execution_count": 13,
     "metadata": {},
     "output_type": "execute_result"
    }
   ],
   "source": [
    "info_states = dataC.State.unique()\n",
    "len(dataC.State.unique())"
   ]
  },
  {
   "cell_type": "code",
   "execution_count": 14,
   "id": "a1a1be07",
   "metadata": {
    "execution": {
     "iopub.execute_input": "2023-06-10T05:43:36.430609Z",
     "iopub.status.busy": "2023-06-10T05:43:36.430248Z",
     "iopub.status.idle": "2023-06-10T05:43:36.438907Z",
     "shell.execute_reply": "2023-06-10T05:43:36.438130Z"
    },
    "papermill": {
     "duration": 0.036564,
     "end_time": "2023-06-10T05:43:36.440828",
     "exception": false,
     "start_time": "2023-06-10T05:43:36.404264",
     "status": "completed"
    },
    "tags": []
   },
   "outputs": [
    {
     "data": {
      "text/plain": [
       "51"
      ]
     },
     "execution_count": 14,
     "metadata": {},
     "output_type": "execute_result"
    }
   ],
   "source": [
    "#list of all states in (source:https://snipplr.com/view/50728/list-of-us-state-abbreviations)\n",
    "states = [\"AL\", \"AK\", \"AZ\", \"AR\", \"CA\", \"CO\", \"CT\", \"DC\", \"DE\", \"FL\", \"GA\", \n",
    "              \"HI\", \"ID\", \"IL\", \"IN\", \"IA\", \"KS\", \"KY\", \"LA\", \"ME\", \"MD\", \n",
    "              \"MA\", \"MI\", \"MN\", \"MS\", \"MO\", \"MT\", \"NE\", \"NV\", \"NH\", \"NJ\", \n",
    "              \"NM\", \"NY\", \"NC\", \"ND\", \"OH\", \"OK\", \"OR\", \"PA\", \"RI\", \"SC\", \n",
    "              \"SD\", \"TN\", \"TX\", \"UT\", \"VT\", \"VA\", \"WA\", \"WV\", \"WI\", \"WY\"]\n",
    "len(states)"
   ]
  },
  {
   "cell_type": "code",
   "execution_count": 15,
   "id": "cd7a6ada",
   "metadata": {
    "execution": {
     "iopub.execute_input": "2023-06-10T05:43:36.493338Z",
     "iopub.status.busy": "2023-06-10T05:43:36.492171Z",
     "iopub.status.idle": "2023-06-10T05:43:36.499229Z",
     "shell.execute_reply": "2023-06-10T05:43:36.498025Z"
    },
    "papermill": {
     "duration": 0.035669,
     "end_time": "2023-06-10T05:43:36.501583",
     "exception": false,
     "start_time": "2023-06-10T05:43:36.465914",
     "status": "completed"
    },
    "tags": []
   },
   "outputs": [
    {
     "name": "stdout",
     "output_type": "stream",
     "text": [
      "['AK', 'HI']\n"
     ]
    }
   ],
   "source": [
    "no_info_states =[]\n",
    "for i in states:\n",
    "    if i not in info_states:\n",
    "        no_info_states.append(i)\n",
    "print(no_info_states)   "
   ]
  },
  {
   "cell_type": "markdown",
   "id": "fd3d38b5",
   "metadata": {
    "papermill": {
     "duration": 0.024911,
     "end_time": "2023-06-10T05:43:36.552434",
     "exception": false,
     "start_time": "2023-06-10T05:43:36.527523",
     "status": "completed"
    },
    "tags": []
   },
   "source": [
    "The used data do not have an information from Alaska and Hawaii"
   ]
  },
  {
   "cell_type": "markdown",
   "id": "7502d0fd",
   "metadata": {
    "papermill": {
     "duration": 0.024656,
     "end_time": "2023-06-10T05:43:36.602137",
     "exception": false,
     "start_time": "2023-06-10T05:43:36.577481",
     "status": "completed"
    },
    "tags": []
   },
   "source": [
    "# Exploratory analysis and visulazation\n",
    "\n",
    "cloumns to analyse:\n",
    "\n",
    "1.City\n",
    "\n",
    "2.Weekly, yearly, daily\n",
    "\n",
    "3.Location, aka ; Start lat, start lng\n",
    "\n",
    "4.Temprature\n",
    "\n",
    "5.Weather Condition"
   ]
  },
  {
   "cell_type": "markdown",
   "id": "e09f6eea",
   "metadata": {
    "papermill": {
     "duration": 0.02461,
     "end_time": "2023-06-10T05:43:36.652037",
     "exception": false,
     "start_time": "2023-06-10T05:43:36.627427",
     "status": "completed"
    },
    "tags": []
   },
   "source": [
    "### City wise EDA\n"
   ]
  },
  {
   "cell_type": "code",
   "execution_count": 16,
   "id": "a271fbc0",
   "metadata": {
    "execution": {
     "iopub.execute_input": "2023-06-10T05:43:36.703866Z",
     "iopub.status.busy": "2023-06-10T05:43:36.703466Z",
     "iopub.status.idle": "2023-06-10T05:43:37.742101Z",
     "shell.execute_reply": "2023-06-10T05:43:37.740998Z"
    },
    "papermill": {
     "duration": 1.067938,
     "end_time": "2023-06-10T05:43:37.744734",
     "exception": false,
     "start_time": "2023-06-10T05:43:36.676796",
     "status": "completed"
    },
    "tags": []
   },
   "outputs": [
    {
     "data": {
      "text/plain": [
       "13679"
      ]
     },
     "execution_count": 16,
     "metadata": {},
     "output_type": "execute_result"
    }
   ],
   "source": [
    "cites = dataC.City.unique()\n",
    "len(cites)"
   ]
  },
  {
   "cell_type": "code",
   "execution_count": 17,
   "id": "c45c3708",
   "metadata": {
    "execution": {
     "iopub.execute_input": "2023-06-10T05:43:37.799423Z",
     "iopub.status.busy": "2023-06-10T05:43:37.798170Z",
     "iopub.status.idle": "2023-06-10T05:43:40.348440Z",
     "shell.execute_reply": "2023-06-10T05:43:40.347302Z"
    },
    "papermill": {
     "duration": 2.580584,
     "end_time": "2023-06-10T05:43:40.351369",
     "exception": false,
     "start_time": "2023-06-10T05:43:37.770785",
     "status": "completed"
    },
    "tags": []
   },
   "outputs": [
    {
     "data": {
      "text/plain": [
       "<Axes: >"
      ]
     },
     "execution_count": 17,
     "metadata": {},
     "output_type": "execute_result"
    },
    {
     "data": {
      "image/png": "[encoded data removed]",
      "text/plain": [
       "<Figure size 640x480 with 1 Axes>"
      ]
     },
     "metadata": {},
     "output_type": "display_data"
    }
   ],
   "source": [
    "CITYwrtACi = dataC[\"City\"].value_counts()\n",
    "CITYwrtACi[:40].plot(kind='bar')"
   ]
  },
  {
   "cell_type": "code",
   "execution_count": 18,
   "id": "dbec6be8",
   "metadata": {
    "execution": {
     "iopub.execute_input": "2023-06-10T05:43:40.406662Z",
     "iopub.status.busy": "2023-06-10T05:43:40.406020Z",
     "iopub.status.idle": "2023-06-10T05:43:41.648999Z",
     "shell.execute_reply": "2023-06-10T05:43:41.647821Z"
    },
    "papermill": {
     "duration": 1.273332,
     "end_time": "2023-06-10T05:43:41.651569",
     "exception": false,
     "start_time": "2023-06-10T05:43:40.378237",
     "status": "completed"
    },
    "tags": []
   },
   "outputs": [
    {
     "data": {
      "text/plain": [
       "<seaborn.axisgrid.FacetGrid at 0x79f48115f010>"
      ]
     },
     "execution_count": 18,
     "metadata": {},
     "output_type": "execute_result"
    },
    {
     "data": {
      "image/png": "[encoded data removed]",
      "text/plain": [
       "<Figure size 500x500 with 1 Axes>"
      ]
     },
     "metadata": {},
     "output_type": "display_data"
    }
   ],
   "source": [
    "sns.displot(CITYwrtACi, kde = True, bins = 200)"
   ]
  },
  {
   "cell_type": "markdown",
   "id": "362eb59c",
   "metadata": {
    "papermill": {
     "duration": 0.026674,
     "end_time": "2023-06-10T05:43:41.706317",
     "exception": false,
     "start_time": "2023-06-10T05:43:41.679643",
     "status": "completed"
    },
    "tags": []
   },
   "source": [
    "observation: large gap in data: dividing the data in to sections"
   ]
  },
  {
   "cell_type": "code",
   "execution_count": 19,
   "id": "dbcefe99",
   "metadata": {
    "execution": {
     "iopub.execute_input": "2023-06-10T05:43:41.762446Z",
     "iopub.status.busy": "2023-06-10T05:43:41.762033Z",
     "iopub.status.idle": "2023-06-10T05:43:43.382596Z",
     "shell.execute_reply": "2023-06-10T05:43:43.381543Z"
    },
    "papermill": {
     "duration": 1.651869,
     "end_time": "2023-06-10T05:43:43.385116",
     "exception": false,
     "start_time": "2023-06-10T05:43:41.733247",
     "status": "completed"
    },
    "tags": []
   },
   "outputs": [
    {
     "data": {
      "text/plain": [
       "<Axes: xlabel='City', ylabel='Count'>"
      ]
     },
     "execution_count": 19,
     "metadata": {},
     "output_type": "execute_result"
    },
    {
     "data": {
      "image/png": "[encoded data removed]",
      "text/plain": [
       "<Figure size 640x480 with 1 Axes>"
      ]
     },
     "metadata": {},
     "output_type": "display_data"
    }
   ],
   "source": [
    "sns.histplot(CITYwrtACi,log_scale = True, bins = 80)"
   ]
  },
  {
   "cell_type": "markdown",
   "id": "ac5f6efe",
   "metadata": {
    "papermill": {
     "duration": 0.027057,
     "end_time": "2023-06-10T05:43:43.440468",
     "exception": false,
     "start_time": "2023-06-10T05:43:43.413411",
     "status": "completed"
    },
    "tags": []
   },
   "source": [
    "Most of the cityes have accidents ranging from around 1 to 100"
   ]
  },
  {
   "cell_type": "code",
   "execution_count": 20,
   "id": "7bcdd192",
   "metadata": {
    "execution": {
     "iopub.execute_input": "2023-06-10T05:43:43.497331Z",
     "iopub.status.busy": "2023-06-10T05:43:43.496903Z",
     "iopub.status.idle": "2023-06-10T05:43:43.505797Z",
     "shell.execute_reply": "2023-06-10T05:43:43.505017Z"
    },
    "papermill": {
     "duration": 0.039755,
     "end_time": "2023-06-10T05:43:43.507934",
     "exception": false,
     "start_time": "2023-06-10T05:43:43.468179",
     "status": "completed"
    },
    "tags": []
   },
   "outputs": [
    {
     "data": {
      "text/plain": [
       "Lake Andes                      1\n",
       "Catoctin                        1\n",
       "Duck Hill                       1\n",
       "Westbrookville                  1\n",
       "Saint Croix                     1\n",
       "                               ..\n",
       "Benkelman                       1\n",
       "Old Appleton                    1\n",
       "Wildrose                        1\n",
       "Mc Nabb                         1\n",
       "American Fork-Pleasant Grove    1\n",
       "Name: City, Length: 1023, dtype: int64"
      ]
     },
     "execution_count": 20,
     "metadata": {},
     "output_type": "execute_result"
    }
   ],
   "source": [
    "CITYwrtACi[CITYwrtACi == 1]"
   ]
  },
  {
   "cell_type": "markdown",
   "id": "aa188ac2",
   "metadata": {
    "papermill": {
     "duration": 0.027366,
     "end_time": "2023-06-10T05:43:43.563096",
     "exception": false,
     "start_time": "2023-06-10T05:43:43.535730",
     "status": "completed"
    },
    "tags": []
   },
   "source": [
    "Aleast 1000 cities has reported 1 accident"
   ]
  },
  {
   "cell_type": "code",
   "execution_count": 21,
   "id": "c7ac4601",
   "metadata": {
    "execution": {
     "iopub.execute_input": "2023-06-10T05:43:43.620522Z",
     "iopub.status.busy": "2023-06-10T05:43:43.619480Z",
     "iopub.status.idle": "2023-06-10T05:43:43.629717Z",
     "shell.execute_reply": "2023-06-10T05:43:43.628648Z"
    },
    "papermill": {
     "duration": 0.041629,
     "end_time": "2023-06-10T05:43:43.632166",
     "exception": false,
     "start_time": "2023-06-10T05:43:43.590537",
     "status": "completed"
    },
    "tags": []
   },
   "outputs": [
    {
     "data": {
      "text/plain": [
       "Yermo                           9\n",
       "Washington Crossing             9\n",
       "Falfurrias                      9\n",
       "Lookout Mountain                9\n",
       "Clemons                         9\n",
       "                               ..\n",
       "Benkelman                       1\n",
       "Old Appleton                    1\n",
       "Wildrose                        1\n",
       "Mc Nabb                         1\n",
       "American Fork-Pleasant Grove    1\n",
       "Name: City, Length: 4238, dtype: int64"
      ]
     },
     "execution_count": 21,
     "metadata": {},
     "output_type": "execute_result"
    }
   ],
   "source": [
    "CITYwrtACi[CITYwrtACi< 10]"
   ]
  },
  {
   "cell_type": "markdown",
   "id": "bd7792cc",
   "metadata": {
    "papermill": {
     "duration": 0.027375,
     "end_time": "2023-06-10T05:43:43.687029",
     "exception": false,
     "start_time": "2023-06-10T05:43:43.659654",
     "status": "completed"
    },
    "tags": []
   },
   "source": [
    "we have almost 4250 cities with less than 10 accidents  "
   ]
  },
  {
   "cell_type": "code",
   "execution_count": 22,
   "id": "68a4669a",
   "metadata": {
    "execution": {
     "iopub.execute_input": "2023-06-10T05:43:43.744229Z",
     "iopub.status.busy": "2023-06-10T05:43:43.743487Z",
     "iopub.status.idle": "2023-06-10T05:43:43.752292Z",
     "shell.execute_reply": "2023-06-10T05:43:43.751037Z"
    },
    "papermill": {
     "duration": 0.040069,
     "end_time": "2023-06-10T05:43:43.754500",
     "exception": false,
     "start_time": "2023-06-10T05:43:43.714431",
     "status": "completed"
    },
    "tags": []
   },
   "outputs": [
    {
     "name": "stdout",
     "output_type": "stream",
     "text": [
      "low accident city % : 91.11712238631378\n",
      "High accident city % : 8.882877613686212\n"
     ]
    }
   ],
   "source": [
    "high_acci_city = CITYwrtACi[CITYwrtACi>1000]\n",
    "low_acci_city = CITYwrtACi[CITYwrtACi<=1000]\n",
    "print(\"low accident city % :\",(len(low_acci_city)/len(CITYwrtACi))*100)\n",
    "print(\"High accident city % :\",(len(high_acci_city)/len(CITYwrtACi))*100)"
   ]
  },
  {
   "cell_type": "code",
   "execution_count": 23,
   "id": "4fadd2b1",
   "metadata": {
    "execution": {
     "iopub.execute_input": "2023-06-10T05:43:43.812342Z",
     "iopub.status.busy": "2023-06-10T05:43:43.811929Z",
     "iopub.status.idle": "2023-06-10T05:43:43.824430Z",
     "shell.execute_reply": "2023-06-10T05:43:43.823220Z"
    },
    "papermill": {
     "duration": 0.043876,
     "end_time": "2023-06-10T05:43:43.826714",
     "exception": false,
     "start_time": "2023-06-10T05:43:43.782838",
     "status": "completed"
    },
    "tags": []
   },
   "outputs": [
    {
     "data": {
      "text/plain": [
       "count     13678.000000\n",
       "mean        565.005191\n",
       "std        4147.357347\n",
       "min           1.000000\n",
       "25%           6.000000\n",
       "50%          35.000000\n",
       "75%         201.000000\n",
       "max      186917.000000\n",
       "Name: City, dtype: float64"
      ]
     },
     "execution_count": 23,
     "metadata": {},
     "output_type": "execute_result"
    }
   ],
   "source": [
    "CITYwrtACi.describe()"
   ]
  },
  {
   "cell_type": "markdown",
   "id": "5a49a65e",
   "metadata": {
    "papermill": {
     "duration": 0.027767,
     "end_time": "2023-06-10T05:43:43.882819",
     "exception": false,
     "start_time": "2023-06-10T05:43:43.855052",
     "status": "completed"
    },
    "tags": []
   },
   "source": [
    "## Weekly, yearly, daily (Start time)"
   ]
  },
  {
   "cell_type": "code",
   "execution_count": 24,
   "id": "e09a171e",
   "metadata": {
    "execution": {
     "iopub.execute_input": "2023-06-10T05:43:43.940048Z",
     "iopub.status.busy": "2023-06-10T05:43:43.939608Z",
     "iopub.status.idle": "2023-06-10T05:43:43.946404Z",
     "shell.execute_reply": "2023-06-10T05:43:43.945625Z"
    },
    "papermill": {
     "duration": 0.038014,
     "end_time": "2023-06-10T05:43:43.948623",
     "exception": false,
     "start_time": "2023-06-10T05:43:43.910609",
     "status": "completed"
    },
    "tags": []
   },
   "outputs": [
    {
     "data": {
      "text/plain": [
       "str"
      ]
     },
     "execution_count": 24,
     "metadata": {},
     "output_type": "execute_result"
    }
   ],
   "source": [
    "type(dataC.Start_Time[0])"
   ]
  },
  {
   "cell_type": "code",
   "execution_count": 25,
   "id": "d86205a9",
   "metadata": {
    "execution": {
     "iopub.execute_input": "2023-06-10T05:43:44.008156Z",
     "iopub.status.busy": "2023-06-10T05:43:44.007315Z",
     "iopub.status.idle": "2023-06-10T05:43:44.015368Z",
     "shell.execute_reply": "2023-06-10T05:43:44.014320Z"
    },
    "papermill": {
     "duration": 0.040819,
     "end_time": "2023-06-10T05:43:44.017826",
     "exception": false,
     "start_time": "2023-06-10T05:43:43.977007",
     "status": "completed"
    },
    "tags": []
   },
   "outputs": [
    {
     "data": {
      "text/plain": [
       "0    2016-02-08 05:46:00\n",
       "1    2016-02-08 06:07:59\n",
       "2    2016-02-08 06:49:27\n",
       "3    2016-02-08 07:23:34\n",
       "4    2016-02-08 07:39:07\n",
       "Name: Start_Time, dtype: object"
      ]
     },
     "execution_count": 25,
     "metadata": {},
     "output_type": "execute_result"
    }
   ],
   "source": [
    "dataC.Start_Time.head()"
   ]
  },
  {
   "cell_type": "code",
   "execution_count": 26,
   "id": "a971552d",
   "metadata": {
    "execution": {
     "iopub.execute_input": "2023-06-10T05:43:44.076901Z",
     "iopub.status.busy": "2023-06-10T05:43:44.075950Z",
     "iopub.status.idle": "2023-06-10T05:43:48.280422Z",
     "shell.execute_reply": "2023-06-10T05:43:48.279051Z"
    },
    "papermill": {
     "duration": 4.236863,
     "end_time": "2023-06-10T05:43:48.282991",
     "exception": false,
     "start_time": "2023-06-10T05:43:44.046128",
     "status": "completed"
    },
    "tags": []
   },
   "outputs": [
    {
     "name": "stderr",
     "output_type": "stream",
     "text": [
      "/tmp/ipykernel_20/4029030029.py:1: SettingWithCopyWarning:\n",
      "\n",
      "\n",
      "A value is trying to be set on a copy of a slice from a DataFrame.\n",
      "Try using .loc[row_indexer,col_indexer] = value instead\n",
      "\n",
      "See the caveats in the documentation: https://pandas.pydata.org/pandas-docs/stable/user_guide/indexing.html#returning-a-view-versus-a-copy\n",
      "\n"
     ]
    }
   ],
   "source": [
    "dataC.Start_Time = pd.to_datetime(dataC.Start_Time)"
   ]
  },
  {
   "cell_type": "code",
   "execution_count": 27,
   "id": "a18a669e",
   "metadata": {
    "execution": {
     "iopub.execute_input": "2023-06-10T05:43:48.341185Z",
     "iopub.status.busy": "2023-06-10T05:43:48.340793Z",
     "iopub.status.idle": "2023-06-10T05:43:48.348418Z",
     "shell.execute_reply": "2023-06-10T05:43:48.347137Z"
    },
    "papermill": {
     "duration": 0.039436,
     "end_time": "2023-06-10T05:43:48.350729",
     "exception": false,
     "start_time": "2023-06-10T05:43:48.311293",
     "status": "completed"
    },
    "tags": []
   },
   "outputs": [
    {
     "data": {
      "text/plain": [
       "pandas._libs.tslibs.timestamps.Timestamp"
      ]
     },
     "execution_count": 27,
     "metadata": {},
     "output_type": "execute_result"
    }
   ],
   "source": [
    "type(dataC.Start_Time[0])"
   ]
  },
  {
   "cell_type": "code",
   "execution_count": 28,
   "id": "6f4eadca",
   "metadata": {
    "execution": {
     "iopub.execute_input": "2023-06-10T05:43:48.409435Z",
     "iopub.status.busy": "2023-06-10T05:43:48.409051Z",
     "iopub.status.idle": "2023-06-10T05:43:59.320658Z",
     "shell.execute_reply": "2023-06-10T05:43:59.319340Z"
    },
    "papermill": {
     "duration": 10.943595,
     "end_time": "2023-06-10T05:43:59.323004",
     "exception": false,
     "start_time": "2023-06-10T05:43:48.379409",
     "status": "completed"
    },
    "tags": []
   },
   "outputs": [
    {
     "data": {
      "text/plain": [
       "<seaborn.axisgrid.FacetGrid at 0x79f512e099f0>"
      ]
     },
     "execution_count": 28,
     "metadata": {},
     "output_type": "execute_result"
    },
    {
     "data": {
      "image/png": "[encoded data removed]",
      "text/plain": [
       "<Figure size 500x500 with 1 Axes>"
      ]
     },
     "metadata": {},
     "output_type": "display_data"
    }
   ],
   "source": [
    "sns.displot(dataC.Start_Time.dt.hour, bins = 24, stat='probability')"
   ]
  },
  {
   "cell_type": "markdown",
   "id": "82b29ea6",
   "metadata": {
    "papermill": {
     "duration": 0.028386,
     "end_time": "2023-06-10T05:43:59.380253",
     "exception": false,
     "start_time": "2023-06-10T05:43:59.351867",
     "status": "completed"
    },
    "tags": []
   },
   "source": [
    "there is a peak in values in betwee, 7:00 hours to 9:00 hours, and another spike between 15:00 hours to 18:00 hours"
   ]
  },
  {
   "cell_type": "code",
   "execution_count": 29,
   "id": "09afde1c",
   "metadata": {
    "execution": {
     "iopub.execute_input": "2023-06-10T05:43:59.439671Z",
     "iopub.status.busy": "2023-06-10T05:43:59.439239Z",
     "iopub.status.idle": "2023-06-10T05:44:10.357922Z",
     "shell.execute_reply": "2023-06-10T05:44:10.356743Z"
    },
    "papermill": {
     "duration": 10.951722,
     "end_time": "2023-06-10T05:44:10.360629",
     "exception": false,
     "start_time": "2023-06-10T05:43:59.408907",
     "status": "completed"
    },
    "tags": []
   },
   "outputs": [
    {
     "data": {
      "text/plain": [
       "<seaborn.axisgrid.FacetGrid at 0x79f4794973a0>"
      ]
     },
     "execution_count": 29,
     "metadata": {},
     "output_type": "execute_result"
    },
    {
     "data": {
      "image/png": "[encoded data removed]",
      "text/plain": [
       "<Figure size 500x500 with 1 Axes>"
      ]
     },
     "metadata": {},
     "output_type": "display_data"
    }
   ],
   "source": [
    "sns.displot(dataC.Start_Time.dt.dayofweek,bins=7, stat='probability')"
   ]
  },
  {
   "cell_type": "markdown",
   "id": "81c2d910",
   "metadata": {
    "papermill": {
     "duration": 0.029335,
     "end_time": "2023-06-10T05:44:10.420348",
     "exception": false,
     "start_time": "2023-06-10T05:44:10.391013",
     "status": "completed"
    },
    "tags": []
   },
   "source": [
    "On weekeds number of accidents is lower\n",
    "id the disribution of accidents by hour the same on the weekend as on weekdays"
   ]
  },
  {
   "cell_type": "code",
   "execution_count": 30,
   "id": "10e735b6",
   "metadata": {
    "execution": {
     "iopub.execute_input": "2023-06-10T05:44:10.481622Z",
     "iopub.status.busy": "2023-06-10T05:44:10.481124Z",
     "iopub.status.idle": "2023-06-10T05:44:12.773872Z",
     "shell.execute_reply": "2023-06-10T05:44:12.772602Z"
    },
    "papermill": {
     "duration": 2.326288,
     "end_time": "2023-06-10T05:44:12.776465",
     "exception": false,
     "start_time": "2023-06-10T05:44:10.450177",
     "status": "completed"
    },
    "tags": []
   },
   "outputs": [
    {
     "data": {
      "text/plain": [
       "<seaborn.axisgrid.FacetGrid at 0x79f48115f5b0>"
      ]
     },
     "execution_count": 30,
     "metadata": {},
     "output_type": "execute_result"
    },
    {
     "data": {
      "image/png": "[encoded data removed]",
      "text/plain": [
       "<Figure size 500x500 with 1 Axes>"
      ]
     },
     "metadata": {},
     "output_type": "display_data"
    }
   ],
   "source": [
    "Saturday_ST = dataC.Start_Time[dataC.Start_Time.dt.dayofweek == 6]\n",
    "sns.displot(Saturday_ST.dt.hour, bins = 24, stat='probability')"
   ]
  },
  {
   "cell_type": "code",
   "execution_count": 31,
   "id": "746bafb4",
   "metadata": {
    "execution": {
     "iopub.execute_input": "2023-06-10T05:44:12.840544Z",
     "iopub.status.busy": "2023-06-10T05:44:12.839382Z",
     "iopub.status.idle": "2023-06-10T05:44:15.122099Z",
     "shell.execute_reply": "2023-06-10T05:44:15.120647Z"
    },
    "papermill": {
     "duration": 2.317787,
     "end_time": "2023-06-10T05:44:15.125504",
     "exception": false,
     "start_time": "2023-06-10T05:44:12.807717",
     "status": "completed"
    },
    "tags": []
   },
   "outputs": [
    {
     "data": {
      "text/plain": [
       "<seaborn.axisgrid.FacetGrid at 0x79f513012530>"
      ]
     },
     "execution_count": 31,
     "metadata": {},
     "output_type": "execute_result"
    },
    {
     "data": {
      "image/png": "[encoded data removed]",
      "text/plain": [
       "<Figure size 500x500 with 1 Axes>"
      ]
     },
     "metadata": {},
     "output_type": "display_data"
    }
   ],
   "source": [
    "Sunday_ST = dataC.Start_Time[dataC.Start_Time.dt.dayofweek == 6]\n",
    "sns.displot(Sunday_ST.dt.hour, bins = 24, stat='probability')"
   ]
  },
  {
   "cell_type": "markdown",
   "id": "ab9c7680",
   "metadata": {
    "papermill": {
     "duration": 0.030464,
     "end_time": "2023-06-10T05:44:15.186986",
     "exception": false,
     "start_time": "2023-06-10T05:44:15.156522",
     "status": "completed"
    },
    "tags": []
   },
   "source": [
    "Sunday and saturday shows almost same type of disribution, peak number of accidents in the afternoon hours and more later i n the evening compared to morning, maybe because people generally wake up late during moring and return late at night"
   ]
  },
  {
   "cell_type": "code",
   "execution_count": 32,
   "id": "1a213c46",
   "metadata": {
    "execution": {
     "iopub.execute_input": "2023-06-10T05:44:15.249976Z",
     "iopub.status.busy": "2023-06-10T05:44:15.249587Z",
     "iopub.status.idle": "2023-06-10T05:44:18.370436Z",
     "shell.execute_reply": "2023-06-10T05:44:18.368938Z"
    },
    "papermill": {
     "duration": 3.155478,
     "end_time": "2023-06-10T05:44:18.372998",
     "exception": false,
     "start_time": "2023-06-10T05:44:15.217520",
     "status": "completed"
    },
    "tags": []
   },
   "outputs": [
    {
     "data": {
      "text/plain": [
       "<seaborn.axisgrid.FacetGrid at 0x79f436d0e3b0>"
      ]
     },
     "execution_count": 32,
     "metadata": {},
     "output_type": "execute_result"
    },
    {
     "data": {
      "image/png": "[encoded data removed]",
      "text/plain": [
       "<Figure size 500x500 with 1 Axes>"
      ]
     },
     "metadata": {},
     "output_type": "display_data"
    }
   ],
   "source": [
    "Monday_ST = dataC.Start_Time[dataC.Start_Time.dt.dayofweek == 0]\n",
    "sns.displot(Monday_ST.dt.hour, bins = 24, stat='probability')"
   ]
  },
  {
   "cell_type": "markdown",
   "id": "ff9b67f3",
   "metadata": {
    "papermill": {
     "duration": 0.031217,
     "end_time": "2023-06-10T05:44:18.435321",
     "exception": false,
     "start_time": "2023-06-10T05:44:18.404104",
     "status": "completed"
    },
    "tags": []
   },
   "source": [
    "Moday Has almost the same graph of the average daily distribution"
   ]
  },
  {
   "cell_type": "code",
   "execution_count": 33,
   "id": "92e075ba",
   "metadata": {
    "execution": {
     "iopub.execute_input": "2023-06-10T05:44:18.498978Z",
     "iopub.status.busy": "2023-06-10T05:44:18.498513Z",
     "iopub.status.idle": "2023-06-10T05:44:29.208362Z",
     "shell.execute_reply": "2023-06-10T05:44:29.207084Z"
    },
    "papermill": {
     "duration": 10.744864,
     "end_time": "2023-06-10T05:44:29.211003",
     "exception": false,
     "start_time": "2023-06-10T05:44:18.466139",
     "status": "completed"
    },
    "tags": []
   },
   "outputs": [
    {
     "data": {
      "text/plain": [
       "<Axes: xlabel='Start_Time', ylabel='Count'>"
      ]
     },
     "execution_count": 33,
     "metadata": {},
     "output_type": "execute_result"
    },
    {
     "data": {
      "image/png": "[encoded data removed]",
      "text/plain": [
       "<Figure size 640x480 with 1 Axes>"
      ]
     },
     "metadata": {},
     "output_type": "display_data"
    }
   ],
   "source": [
    "sns.histplot(dataC.Start_Time.dt.month, bins = 12)"
   ]
  },
  {
   "cell_type": "markdown",
   "id": "50969395",
   "metadata": {
    "papermill": {
     "duration": 0.032773,
     "end_time": "2023-06-10T05:44:29.276369",
     "exception": false,
     "start_time": "2023-06-10T05:44:29.243596",
     "status": "completed"
    },
    "tags": []
   },
   "source": [
    "we can see some peak during winter months, might be due to lower visibility and slippery roads compared to summer time"
   ]
  },
  {
   "cell_type": "code",
   "execution_count": 34,
   "id": "bfb077bf",
   "metadata": {
    "execution": {
     "iopub.execute_input": "2023-06-10T05:44:29.345055Z",
     "iopub.status.busy": "2023-06-10T05:44:29.344206Z",
     "iopub.status.idle": "2023-06-10T05:44:41.130308Z",
     "shell.execute_reply": "2023-06-10T05:44:41.128867Z"
    },
    "papermill": {
     "duration": 11.822953,
     "end_time": "2023-06-10T05:44:41.132690",
     "exception": false,
     "start_time": "2023-06-10T05:44:29.309737",
     "status": "completed"
    },
    "tags": []
   },
   "outputs": [
    {
     "data": {
      "text/plain": [
       "<seaborn.axisgrid.FacetGrid at 0x79f436d54880>"
      ]
     },
     "execution_count": 34,
     "metadata": {},
     "output_type": "execute_result"
    },
    {
     "data": {
      "image/png": "[encoded data removed]",
      "text/plain": [
       "<Figure size 500x500 with 1 Axes>"
      ]
     },
     "metadata": {},
     "output_type": "display_data"
    }
   ],
   "source": [
    "sns.displot(dataC.Start_Time.dt.year)"
   ]
  },
  {
   "cell_type": "markdown",
   "id": "9c6e2c1a",
   "metadata": {
    "papermill": {
     "duration": 0.031958,
     "end_time": "2023-06-10T05:44:41.197362",
     "exception": false,
     "start_time": "2023-06-10T05:44:41.165404",
     "status": "completed"
    },
    "tags": []
   },
   "source": [
    "we cannot relay on data of 2023, because currenty it is 2023. There is steady increse in accidents thoughout the years, even during the 2020, 2021 pandamic period, maybe due to lower relability on public transports and incresed car or individula vehicle useage. Might also be due to lower collection of data in previours years"
   ]
  },
  {
   "cell_type": "markdown",
   "id": "158c4674",
   "metadata": {
    "papermill": {
     "duration": 0.032156,
     "end_time": "2023-06-10T05:44:41.263057",
     "exception": false,
     "start_time": "2023-06-10T05:44:41.230901",
     "status": "completed"
    },
    "tags": []
   },
   "source": [
    "## Source"
   ]
  },
  {
   "cell_type": "code",
   "execution_count": 35,
   "id": "cb6f4317",
   "metadata": {
    "execution": {
     "iopub.execute_input": "2023-06-10T05:44:41.330136Z",
     "iopub.status.busy": "2023-06-10T05:44:41.328843Z",
     "iopub.status.idle": "2023-06-10T05:44:41.338676Z",
     "shell.execute_reply": "2023-06-10T05:44:41.337383Z"
    },
    "papermill": {
     "duration": 0.045834,
     "end_time": "2023-06-10T05:44:41.341140",
     "exception": false,
     "start_time": "2023-06-10T05:44:41.295306",
     "status": "completed"
    },
    "tags": []
   },
   "outputs": [
    {
     "data": {
      "text/plain": [
       "0          Source2\n",
       "1          Source2\n",
       "2          Source2\n",
       "3          Source2\n",
       "4          Source2\n",
       "            ...   \n",
       "7728389    Source1\n",
       "7728390    Source1\n",
       "7728391    Source1\n",
       "7728392    Source1\n",
       "7728393    Source1\n",
       "Name: Source, Length: 7728394, dtype: object"
      ]
     },
     "execution_count": 35,
     "metadata": {},
     "output_type": "execute_result"
    }
   ],
   "source": [
    "dataC['Source']"
   ]
  },
  {
   "cell_type": "code",
   "execution_count": 36,
   "id": "9328b5c6",
   "metadata": {
    "execution": {
     "iopub.execute_input": "2023-06-10T05:44:41.408398Z",
     "iopub.status.busy": "2023-06-10T05:44:41.407310Z",
     "iopub.status.idle": "2023-06-10T05:44:42.826080Z",
     "shell.execute_reply": "2023-06-10T05:44:42.824464Z"
    },
    "papermill": {
     "duration": 1.45628,
     "end_time": "2023-06-10T05:44:42.830114",
     "exception": false,
     "start_time": "2023-06-10T05:44:41.373834",
     "status": "completed"
    },
    "tags": []
   },
   "outputs": [
    {
     "data": {
      "text/plain": [
       "<Axes: ylabel='Source'>"
      ]
     },
     "execution_count": 36,
     "metadata": {},
     "output_type": "execute_result"
    },
    {
     "data": {
      "image/png": "[encoded data removed]",
      "text/plain": [
       "<Figure size 640x480 with 1 Axes>"
      ]
     },
     "metadata": {},
     "output_type": "display_data"
    }
   ],
   "source": [
    "dataC.Source.value_counts().plot(kind='pie')"
   ]
  },
  {
   "cell_type": "markdown",
   "id": "cfe97297",
   "metadata": {
    "papermill": {
     "duration": 0.032334,
     "end_time": "2023-06-10T05:44:42.924160",
     "exception": false,
     "start_time": "2023-06-10T05:44:42.891826",
     "status": "completed"
    },
    "tags": []
   },
   "source": [
    "The sources are not named here, from the discussion section of the dataset it seems like the sources are mainly from Bing and MapQuest"
   ]
  },
  {
   "cell_type": "markdown",
   "id": "004de24c",
   "metadata": {
    "papermill": {
     "duration": 0.032388,
     "end_time": "2023-06-10T05:44:42.989247",
     "exception": false,
     "start_time": "2023-06-10T05:44:42.956859",
     "status": "completed"
    },
    "tags": []
   },
   "source": [
    "## States in States"
   ]
  },
  {
   "cell_type": "code",
   "execution_count": 37,
   "id": "2383b59a",
   "metadata": {
    "execution": {
     "iopub.execute_input": "2023-06-10T05:44:43.056870Z",
     "iopub.status.busy": "2023-06-10T05:44:43.056467Z",
     "iopub.status.idle": "2023-06-10T05:44:43.063785Z",
     "shell.execute_reply": "2023-06-10T05:44:43.062813Z"
    },
    "papermill": {
     "duration": 0.043998,
     "end_time": "2023-06-10T05:44:43.066044",
     "exception": false,
     "start_time": "2023-06-10T05:44:43.022046",
     "status": "completed"
    },
    "tags": []
   },
   "outputs": [
    {
     "data": {
      "text/plain": [
       "Index(['ID', 'Source', 'Severity', 'Start_Time', 'End_Time', 'Start_Lat',\n",
       "       'Start_Lng', 'Distance(mi)', 'Description', 'Street', 'City', 'County',\n",
       "       'State', 'Zipcode', 'Timezone', 'Airport_Code', 'Weather_Timestamp',\n",
       "       'Temperature(F)', 'Humidity(%)', 'Pressure(in)', 'Visibility(mi)',\n",
       "       'Wind_Direction', 'Wind_Speed(mph)', 'Weather_Condition', 'Amenity',\n",
       "       'Bump', 'Crossing', 'Give_Way', 'Junction', 'No_Exit', 'Railway',\n",
       "       'Roundabout', 'Station', 'Stop', 'Traffic_Calming', 'Traffic_Signal',\n",
       "       'Turning_Loop', 'Sunrise_Sunset', 'Civil_Twilight', 'Nautical_Twilight',\n",
       "       'Astronomical_Twilight'],\n",
       "      dtype='object')"
      ]
     },
     "execution_count": 37,
     "metadata": {},
     "output_type": "execute_result"
    }
   ],
   "source": [
    "dataC.columns"
   ]
  },
  {
   "cell_type": "code",
   "execution_count": 38,
   "id": "6356fe46",
   "metadata": {
    "execution": {
     "iopub.execute_input": "2023-06-10T05:44:43.133975Z",
     "iopub.status.busy": "2023-06-10T05:44:43.133540Z",
     "iopub.status.idle": "2023-06-10T05:44:44.407212Z",
     "shell.execute_reply": "2023-06-10T05:44:44.406045Z"
    },
    "papermill": {
     "duration": 1.310507,
     "end_time": "2023-06-10T05:44:44.409611",
     "exception": false,
     "start_time": "2023-06-10T05:44:43.099104",
     "status": "completed"
    },
    "tags": []
   },
   "outputs": [],
   "source": [
    "state_accidents = dataC['State'].value_counts()\n",
    "state_accidents = pd.DataFrame({'State': state_accidents.index, 'Accidents': state_accidents.values})"
   ]
  },
  {
   "cell_type": "code",
   "execution_count": 39,
   "id": "cc2861fe",
   "metadata": {
    "execution": {
     "iopub.execute_input": "2023-06-10T05:44:44.478851Z",
     "iopub.status.busy": "2023-06-10T05:44:44.478447Z",
     "iopub.status.idle": "2023-06-10T05:44:45.910815Z",
     "shell.execute_reply": "2023-06-10T05:44:45.910007Z"
    },
    "papermill": {
     "duration": 1.470244,
     "end_time": "2023-06-10T05:44:45.913410",
     "exception": false,
     "start_time": "2023-06-10T05:44:44.443166",
     "status": "completed"
    },
    "tags": []
   },
   "outputs": [
    {
     "data": {
      "text/html": [
       "        <script type=\"text/javascript\">\n",
       "        window.PlotlyConfig = {MathJaxConfig: 'local'};\n",
       "        if (window.MathJax && window.MathJax.Hub && window.MathJax.Hub.Config) {window.MathJax.Hub.Config({SVG: {font: \"STIX-Web\"}});}\n",
       "        if (typeof require !== 'undefined') {\n",
       "        require.undef(\"plotly\");\n",
       "        requirejs.config({\n",
       "            paths: {\n",
       "                'plotly': ['https://cdn.plot.ly/plotly-2.20.0.min']\n",
       "            }\n",
       "        });\n",
       "        require(['plotly'], function(Plotly) {\n",
       "            window._Plotly = Plotly;\n",
       "        });\n",
       "        }\n",
       "        </script>\n",
       "        "
      ]
     },
     "metadata": {},
     "output_type": "display_data"
    },
    {
     "data": {
      "text/html": [
       "<div>                            <div id=\"40afdb23-f4ed-4182-984e-00983c99636d\" class=\"plotly-graph-div\" style=\"height:525px; width:100%;\"></div>            <script type=\"text/javascript\">                require([\"plotly\"], function(Plotly) {                    window.PLOTLYENV=window.PLOTLYENV || {};                                    if (document.getElementById(\"40afdb23-f4ed-4182-984e-00983c99636d\")) {                    Plotly.newPlot(                        \"40afdb23-f4ed-4182-984e-00983c99636d\",                        [{\"colorscale\":[[0.0,\"#0d0887\"],[0.1111111111111111,\"#46039f\"],[0.2222222222222222,\"#7201a8\"],[0.3333333333333333,\"#9c179e\"],[0.4444444444444444,\"#bd3786\"],[0.5555555555555556,\"#d8576b\"],[0.6666666666666666,\"#ed7953\"],[0.7777777777777778,\"#fb9f3a\"],[0.8888888888888888,\"#fdca26\"],[1.0,\"#f0f921\"]],\"locationmode\":\"USA-states\",\"locations\":[\"CA\",\"FL\",\"TX\",\"SC\",\"NY\",\"NC\",\"VA\",\"PA\",\"MN\",\"OR\",\"AZ\",\"GA\",\"IL\",\"TN\",\"MI\",\"LA\",\"NJ\",\"MD\",\"OH\",\"WA\",\"AL\",\"UT\",\"CO\",\"OK\",\"MO\",\"CT\",\"IN\",\"MA\",\"WI\",\"KY\",\"NE\",\"MT\",\"IA\",\"AR\",\"NV\",\"KS\",\"DC\",\"RI\",\"MS\",\"DE\",\"WV\",\"ID\",\"NM\",\"NH\",\"WY\",\"ND\",\"ME\",\"VT\",\"SD\"],\"z\":[1741433,880192,582837,382557,347960,338199,303301,296620,192084,179660,170609,169234,168958,167388,162191,149701,140719,140417,118115,108221,101044,97079,90885,83647,77323,71005,67224,61996,34688,32254,28870,28496,26307,22780,21665,20992,18630,16971,15181,14097,13793,11376,10325,10213,3757,3487,2698,926,289],\"type\":\"choropleth\"}],                        {\"template\":{\"data\":{\"histogram2dcontour\":[{\"type\":\"histogram2dcontour\",\"colorbar\":{\"outlinewidth\":0,\"ticks\":\"\"},\"colorscale\":[[0.0,\"#0d0887\"],[0.1111111111111111,\"#46039f\"],[0.2222222222222222,\"#7201a8\"],[0.3333333333333333,\"#9c179e\"],[0.4444444444444444,\"#bd3786\"],[0.5555555555555556,\"#d8576b\"],[0.6666666666666666,\"#ed7953\"],[0.7777777777777778,\"#fb9f3a\"],[0.8888888888888888,\"#fdca26\"],[1.0,\"#f0f921\"]]}],\"choropleth\":[{\"type\":\"choropleth\",\"colorbar\":{\"outlinewidth\":0,\"ticks\":\"\"}}],\"histogram2d\":[{\"type\":\"histogram2d\",\"colorbar\":{\"outlinewidth\":0,\"ticks\":\"\"},\"colorscale\":[[0.0,\"#0d0887\"],[0.1111111111111111,\"#46039f\"],[0.2222222222222222,\"#7201a8\"],[0.3333333333333333,\"#9c179e\"],[0.4444444444444444,\"#bd3786\"],[0.5555555555555556,\"#d8576b\"],[0.6666666666666666,\"#ed7953\"],[0.7777777777777778,\"#fb9f3a\"],[0.8888888888888888,\"#fdca26\"],[1.0,\"#f0f921\"]]}],\"heatmap\":[{\"type\":\"heatmap\",\"colorbar\":{\"outlinewidth\":0,\"ticks\":\"\"},\"colorscale\":[[0.0,\"#0d0887\"],[0.1111111111111111,\"#46039f\"],[0.2222222222222222,\"#7201a8\"],[0.3333333333333333,\"#9c179e\"],[0.4444444444444444,\"#bd3786\"],[0.5555555555555556,\"#d8576b\"],[0.6666666666666666,\"#ed7953\"],[0.7777777777777778,\"#fb9f3a\"],[0.8888888888888888,\"#fdca26\"],[1.0,\"#f0f921\"]]}],\"heatmapgl\":[{\"type\":\"heatmapgl\",\"colorbar\":{\"outlinewidth\":0,\"ticks\":\"\"},\"colorscale\":[[0.0,\"#0d0887\"],[0.1111111111111111,\"#46039f\"],[0.2222222222222222,\"#7201a8\"],[0.3333333333333333,\"#9c179e\"],[0.4444444444444444,\"#bd3786\"],[0.5555555555555556,\"#d8576b\"],[0.6666666666666666,\"#ed7953\"],[0.7777777777777778,\"#fb9f3a\"],[0.8888888888888888,\"#fdca26\"],[1.0,\"#f0f921\"]]}],\"contourcarpet\":[{\"type\":\"contourcarpet\",\"colorbar\":{\"outlinewidth\":0,\"ticks\":\"\"}}],\"contour\":[{\"type\":\"contour\",\"colorbar\":{\"outlinewidth\":0,\"ticks\":\"\"},\"colorscale\":[[0.0,\"#0d0887\"],[0.1111111111111111,\"#46039f\"],[0.2222222222222222,\"#7201a8\"],[0.3333333333333333,\"#9c179e\"],[0.4444444444444444,\"#bd3786\"],[0.5555555555555556,\"#d8576b\"],[0.6666666666666666,\"#ed7953\"],[0.7777777777777778,\"#fb9f3a\"],[0.8888888888888888,\"#fdca26\"],[1.0,\"#f0f921\"]]}],\"surface\":[{\"type\":\"surface\",\"colorbar\":{\"outlinewidth\":0,\"ticks\":\"\"},\"colorscale\":[[0.0,\"#0d0887\"],[0.1111111111111111,\"#46039f\"],[0.2222222222222222,\"#7201a8\"],[0.3333333333333333,\"#9c179e\"],[0.4444444444444444,\"#bd3786\"],[0.5555555555555556,\"#d8576b\"],[0.6666666666666666,\"#ed7953\"],[0.7777777777777778,\"#fb9f3a\"],[0.8888888888888888,\"#fdca26\"],[1.0,\"#f0f921\"]]}],\"mesh3d\":[{\"type\":\"mesh3d\",\"colorbar\":{\"outlinewidth\":0,\"ticks\":\"\"}}],\"scatter\":[{\"fillpattern\":{\"fillmode\":\"overlay\",\"size\":10,\"solidity\":0.2},\"type\":\"scatter\"}],\"parcoords\":[{\"type\":\"parcoords\",\"line\":{\"colorbar\":{\"outlinewidth\":0,\"ticks\":\"\"}}}],\"scatterpolargl\":[{\"type\":\"scatterpolargl\",\"marker\":{\"colorbar\":{\"outlinewidth\":0,\"ticks\":\"\"}}}],\"bar\":[{\"error_x\":{\"color\":\"#2a3f5f\"},\"error_y\":{\"color\":\"#2a3f5f\"},\"marker\":{\"line\":{\"color\":\"#E5ECF6\",\"width\":0.5},\"pattern\":{\"fillmode\":\"overlay\",\"size\":10,\"solidity\":0.2}},\"type\":\"bar\"}],\"scattergeo\":[{\"type\":\"scattergeo\",\"marker\":{\"colorbar\":{\"outlinewidth\":0,\"ticks\":\"\"}}}],\"scatterpolar\":[{\"type\":\"scatterpolar\",\"marker\":{\"colorbar\":{\"outlinewidth\":0,\"ticks\":\"\"}}}],\"histogram\":[{\"marker\":{\"pattern\":{\"fillmode\":\"overlay\",\"size\":10,\"solidity\":0.2}},\"type\":\"histogram\"}],\"scattergl\":[{\"type\":\"scattergl\",\"marker\":{\"colorbar\":{\"outlinewidth\":0,\"ticks\":\"\"}}}],\"scatter3d\":[{\"type\":\"scatter3d\",\"line\":{\"colorbar\":{\"outlinewidth\":0,\"ticks\":\"\"}},\"marker\":{\"colorbar\":{\"outlinewidth\":0,\"ticks\":\"\"}}}],\"scattermapbox\":[{\"type\":\"scattermapbox\",\"marker\":{\"colorbar\":{\"outlinewidth\":0,\"ticks\":\"\"}}}],\"scatterternary\":[{\"type\":\"scatterternary\",\"marker\":{\"colorbar\":{\"outlinewidth\":0,\"ticks\":\"\"}}}],\"scattercarpet\":[{\"type\":\"scattercarpet\",\"marker\":{\"colorbar\":{\"outlinewidth\":0,\"ticks\":\"\"}}}],\"carpet\":[{\"aaxis\":{\"endlinecolor\":\"#2a3f5f\",\"gridcolor\":\"white\",\"linecolor\":\"white\",\"minorgridcolor\":\"white\",\"startlinecolor\":\"#2a3f5f\"},\"baxis\":{\"endlinecolor\":\"#2a3f5f\",\"gridcolor\":\"white\",\"linecolor\":\"white\",\"minorgridcolor\":\"white\",\"startlinecolor\":\"#2a3f5f\"},\"type\":\"carpet\"}],\"table\":[{\"cells\":{\"fill\":{\"color\":\"#EBF0F8\"},\"line\":{\"color\":\"white\"}},\"header\":{\"fill\":{\"color\":\"#C8D4E3\"},\"line\":{\"color\":\"white\"}},\"type\":\"table\"}],\"barpolar\":[{\"marker\":{\"line\":{\"color\":\"#E5ECF6\",\"width\":0.5},\"pattern\":{\"fillmode\":\"overlay\",\"size\":10,\"solidity\":0.2}},\"type\":\"barpolar\"}],\"pie\":[{\"automargin\":true,\"type\":\"pie\"}]},\"layout\":{\"autotypenumbers\":\"strict\",\"colorway\":[\"#636efa\",\"#EF553B\",\"#00cc96\",\"#ab63fa\",\"#FFA15A\",\"#19d3f3\",\"#FF6692\",\"#B6E880\",\"#FF97FF\",\"#FECB52\"],\"font\":{\"color\":\"#2a3f5f\"},\"hovermode\":\"closest\",\"hoverlabel\":{\"align\":\"left\"},\"paper_bgcolor\":\"white\",\"plot_bgcolor\":\"#E5ECF6\",\"polar\":{\"bgcolor\":\"#E5ECF6\",\"angularaxis\":{\"gridcolor\":\"white\",\"linecolor\":\"white\",\"ticks\":\"\"},\"radialaxis\":{\"gridcolor\":\"white\",\"linecolor\":\"white\",\"ticks\":\"\"}},\"ternary\":{\"bgcolor\":\"#E5ECF6\",\"aaxis\":{\"gridcolor\":\"white\",\"linecolor\":\"white\",\"ticks\":\"\"},\"baxis\":{\"gridcolor\":\"white\",\"linecolor\":\"white\",\"ticks\":\"\"},\"caxis\":{\"gridcolor\":\"white\",\"linecolor\":\"white\",\"ticks\":\"\"}},\"coloraxis\":{\"colorbar\":{\"outlinewidth\":0,\"ticks\":\"\"}},\"colorscale\":{\"sequential\":[[0.0,\"#0d0887\"],[0.1111111111111111,\"#46039f\"],[0.2222222222222222,\"#7201a8\"],[0.3333333333333333,\"#9c179e\"],[0.4444444444444444,\"#bd3786\"],[0.5555555555555556,\"#d8576b\"],[0.6666666666666666,\"#ed7953\"],[0.7777777777777778,\"#fb9f3a\"],[0.8888888888888888,\"#fdca26\"],[1.0,\"#f0f921\"]],\"sequentialminus\":[[0.0,\"#0d0887\"],[0.1111111111111111,\"#46039f\"],[0.2222222222222222,\"#7201a8\"],[0.3333333333333333,\"#9c179e\"],[0.4444444444444444,\"#bd3786\"],[0.5555555555555556,\"#d8576b\"],[0.6666666666666666,\"#ed7953\"],[0.7777777777777778,\"#fb9f3a\"],[0.8888888888888888,\"#fdca26\"],[1.0,\"#f0f921\"]],\"diverging\":[[0,\"#8e0152\"],[0.1,\"#c51b7d\"],[0.2,\"#de77ae\"],[0.3,\"#f1b6da\"],[0.4,\"#fde0ef\"],[0.5,\"#f7f7f7\"],[0.6,\"#e6f5d0\"],[0.7,\"#b8e186\"],[0.8,\"#7fbc41\"],[0.9,\"#4d9221\"],[1,\"#276419\"]]},\"xaxis\":{\"gridcolor\":\"white\",\"linecolor\":\"white\",\"ticks\":\"\",\"title\":{\"standoff\":15},\"zerolinecolor\":\"white\",\"automargin\":true,\"zerolinewidth\":2},\"yaxis\":{\"gridcolor\":\"white\",\"linecolor\":\"white\",\"ticks\":\"\",\"title\":{\"standoff\":15},\"zerolinecolor\":\"white\",\"automargin\":true,\"zerolinewidth\":2},\"scene\":{\"xaxis\":{\"backgroundcolor\":\"#E5ECF6\",\"gridcolor\":\"white\",\"linecolor\":\"white\",\"showbackground\":true,\"ticks\":\"\",\"zerolinecolor\":\"white\",\"gridwidth\":2},\"yaxis\":{\"backgroundcolor\":\"#E5ECF6\",\"gridcolor\":\"white\",\"linecolor\":\"white\",\"showbackground\":true,\"ticks\":\"\",\"zerolinecolor\":\"white\",\"gridwidth\":2},\"zaxis\":{\"backgroundcolor\":\"#E5ECF6\",\"gridcolor\":\"white\",\"linecolor\":\"white\",\"showbackground\":true,\"ticks\":\"\",\"zerolinecolor\":\"white\",\"gridwidth\":2}},\"shapedefaults\":{\"line\":{\"color\":\"#2a3f5f\"}},\"annotationdefaults\":{\"arrowcolor\":\"#2a3f5f\",\"arrowhead\":0,\"arrowwidth\":1},\"geo\":{\"bgcolor\":\"white\",\"landcolor\":\"#E5ECF6\",\"subunitcolor\":\"white\",\"showland\":true,\"showlakes\":true,\"lakecolor\":\"white\"},\"title\":{\"x\":0.05},\"mapbox\":{\"style\":\"light\"}}},\"title\":{\"text\":\"Number of Accidents for each State in US\"},\"geo\":{\"scope\":\"usa\"}},                        {\"responsive\": true}                    ).then(function(){\n",
       "                            \n",
       "var gd = document.getElementById('40afdb23-f4ed-4182-984e-00983c99636d');\n",
       "var x = new MutationObserver(function (mutations, observer) {{\n",
       "        var display = window.getComputedStyle(gd).display;\n",
       "        if (!display || display === 'none') {{\n",
       "            console.log([gd, 'removed!']);\n",
       "            Plotly.purge(gd);\n",
       "            observer.disconnect();\n",
       "        }}\n",
       "}});\n",
       "\n",
       "// Listen for the removal of the full notebook cells\n",
       "var notebookContainer = gd.closest('#notebook-container');\n",
       "if (notebookContainer) {{\n",
       "    x.observe(notebookContainer, {childList: true});\n",
       "}}\n",
       "\n",
       "// Listen for the clearing of the current output cell\n",
       "var outputEl = gd.closest('.output');\n",
       "if (outputEl) {{\n",
       "    x.observe(outputEl, {childList: true});\n",
       "}}\n",
       "\n",
       "                        })                };                });            </script>        </div>"
      ]
     },
     "metadata": {},
     "output_type": "display_data"
    }
   ],
   "source": [
    "Count_Accl_Sta = pd.DataFrame(dataC['State'].value_counts())\n",
    "z = Count_Accl_Sta.values.flatten()\n",
    "x = Count_Accl_Sta.index.to_list()\n",
    "fig = go.Figure(data = go.Choropleth(locations = x, z = z, locationmode = \"USA-states\", colorscale = 'plasma'))\n",
    "\n",
    "fig.update_layout(title_text = \"Number of Accidents for each State in US\", geo_scope = \"usa\")\n",
    "fig.show()"
   ]
  },
  {
   "cell_type": "code",
   "execution_count": 40,
   "id": "09cba1e8",
   "metadata": {
    "execution": {
     "iopub.execute_input": "2023-06-10T05:44:45.982223Z",
     "iopub.status.busy": "2023-06-10T05:44:45.981828Z",
     "iopub.status.idle": "2023-06-10T05:44:47.226162Z",
     "shell.execute_reply": "2023-06-10T05:44:47.225032Z"
    },
    "papermill": {
     "duration": 1.281653,
     "end_time": "2023-06-10T05:44:47.228722",
     "exception": false,
     "start_time": "2023-06-10T05:44:45.947069",
     "status": "completed"
    },
    "tags": []
   },
   "outputs": [
    {
     "data": {
      "image/png": "[encoded data removed]",
      "text/plain": [
       "<Figure size 1000x600 with 1 Axes>"
      ]
     },
     "metadata": {},
     "output_type": "display_data"
    }
   ],
   "source": [
    "fig,axs = plt.subplots(figsize = (10,6))\n",
    "\n",
    "x = Count_Accl_Sta[0:15].index.to_list()\n",
    "y = Count_Accl_Sta[0:15].values.flatten()\n",
    "\n",
    "sns.barplot(x=x, y = y, palette='rainbow')\n",
    "axs.tick_params(axis = 'x', rotation = 90)\n",
    "axs.set_ylabel(\"Number of Accidents\")\n",
    "axs.set_xlabel(\"States\")\n",
    "plt.title(\"Top 15 States with Highest Number of Accidents\")\n",
    "plt.savefig(\"Top_15_States_Accidents.png\",bbox_inches = 'tight', dpi = 300)\n",
    "plt.show()"
   ]
  },
  {
   "cell_type": "code",
   "execution_count": 41,
   "id": "cb1d9738",
   "metadata": {
    "execution": {
     "iopub.execute_input": "2023-06-10T05:44:47.300312Z",
     "iopub.status.busy": "2023-06-10T05:44:47.299563Z",
     "iopub.status.idle": "2023-06-10T05:44:48.810352Z",
     "shell.execute_reply": "2023-06-10T05:44:48.809311Z"
    },
    "papermill": {
     "duration": 1.549682,
     "end_time": "2023-06-10T05:44:48.812899",
     "exception": false,
     "start_time": "2023-06-10T05:44:47.263217",
     "status": "completed"
    },
    "tags": []
   },
   "outputs": [],
   "source": [
    "city_acc_counts = pd.DataFrame(dataC['City'].value_counts()).reset_index()\n",
    "city_acc_counts.columns = ['City',\"Number of Accidents\"]\n",
    "city_acc_counts.sort_values(by = 'Number of Accidents', ascending = False,inplace = True)\n",
    "x = city_acc_counts['City'][:15].to_list()\n",
    "y = city_acc_counts[\"Number of Accidents\"][:15]"
   ]
  },
  {
   "cell_type": "code",
   "execution_count": 42,
   "id": "ae0a05a0",
   "metadata": {
    "execution": {
     "iopub.execute_input": "2023-06-10T05:44:48.884420Z",
     "iopub.status.busy": "2023-06-10T05:44:48.883781Z",
     "iopub.status.idle": "2023-06-10T05:44:50.585569Z",
     "shell.execute_reply": "2023-06-10T05:44:50.584393Z"
    },
    "papermill": {
     "duration": 1.740316,
     "end_time": "2023-06-10T05:44:50.588255",
     "exception": false,
     "start_time": "2023-06-10T05:44:48.847939",
     "status": "completed"
    },
    "tags": []
   },
   "outputs": [
    {
     "data": {
      "image/png": "[encoded data removed]",
      "text/plain": [
       "<Figure size 1000x600 with 1 Axes>"
      ]
     },
     "metadata": {},
     "output_type": "display_data"
    }
   ],
   "source": [
    "fig,axs = plt.subplots(figsize = (10,6))\n",
    "sns.barplot(x = x,y=y, ax = axs, palette = 'rainbow')\n",
    "axs.tick_params(axis = 'x', rotation = 90)\n",
    "axs.set_yscale(\"log\")\n",
    "axs.set_ylabel(\"Number of Accidents\")\n",
    "axs.set_xlabel(\"Cities\")\n",
    "plt.title(\"Top 15 Cities with Highest Number of Accidents\")\n",
    "plt.savefig(\"Top_15_Cities_Accidents.png\",bbox_inches = 'tight', dpi = 300)\n",
    "plt.show()"
   ]
  },
  {
   "cell_type": "markdown",
   "id": "1ac7281a",
   "metadata": {
    "papermill": {
     "duration": 0.034824,
     "end_time": "2023-06-10T05:44:50.658234",
     "exception": false,
     "start_time": "2023-06-10T05:44:50.623410",
     "status": "completed"
    },
    "tags": []
   },
   "source": [
    " ## Temprature"
   ]
  },
  {
   "cell_type": "code",
   "execution_count": 43,
   "id": "5cfee535",
   "metadata": {
    "execution": {
     "iopub.execute_input": "2023-06-10T05:44:50.729563Z",
     "iopub.status.busy": "2023-06-10T05:44:50.729193Z",
     "iopub.status.idle": "2023-06-10T05:45:49.407409Z",
     "shell.execute_reply": "2023-06-10T05:45:49.406571Z"
    },
    "papermill": {
     "duration": 58.71674,
     "end_time": "2023-06-10T05:45:49.409648",
     "exception": false,
     "start_time": "2023-06-10T05:44:50.692908",
     "status": "completed"
    },
    "tags": []
   },
   "outputs": [
    {
     "data": {
      "text/plain": [
       "<seaborn.axisgrid.FacetGrid at 0x79f436d0dff0>"
      ]
     },
     "execution_count": 43,
     "metadata": {},
     "output_type": "execute_result"
    },
    {
     "data": {
      "image/png": "[encoded data removed]",
      "text/plain": [
       "<Figure size 500x500 with 1 Axes>"
      ]
     },
     "metadata": {},
     "output_type": "display_data"
    }
   ],
   "source": [
    "sns.displot(dataC['Temperature(F)'],bins = 50,kde= True)"
   ]
  },
  {
   "cell_type": "code",
   "execution_count": 44,
   "id": "06f78701",
   "metadata": {
    "execution": {
     "iopub.execute_input": "2023-06-10T05:45:49.483495Z",
     "iopub.status.busy": "2023-06-10T05:45:49.482706Z",
     "iopub.status.idle": "2023-06-10T05:45:49.539276Z",
     "shell.execute_reply": "2023-06-10T05:45:49.537969Z"
    },
    "papermill": {
     "duration": 0.096488,
     "end_time": "2023-06-10T05:45:49.541814",
     "exception": false,
     "start_time": "2023-06-10T05:45:49.445326",
     "status": "completed"
    },
    "tags": []
   },
   "outputs": [
    {
     "data": {
      "text/plain": [
       "61.66328580941001"
      ]
     },
     "execution_count": 44,
     "metadata": {},
     "output_type": "execute_result"
    }
   ],
   "source": [
    "dataC['Temperature(F)'].mean()"
   ]
  },
  {
   "cell_type": "code",
   "execution_count": 45,
   "id": "abb715b3",
   "metadata": {
    "execution": {
     "iopub.execute_input": "2023-06-10T05:45:49.621618Z",
     "iopub.status.busy": "2023-06-10T05:45:49.621238Z",
     "iopub.status.idle": "2023-06-10T05:45:49.761845Z",
     "shell.execute_reply": "2023-06-10T05:45:49.760784Z"
    },
    "papermill": {
     "duration": 0.186383,
     "end_time": "2023-06-10T05:45:49.764626",
     "exception": false,
     "start_time": "2023-06-10T05:45:49.578243",
     "status": "completed"
    },
    "tags": []
   },
   "outputs": [
    {
     "data": {
      "text/plain": [
       "77.0    170991\n",
       "Name: Temperature(F), dtype: int64"
      ]
     },
     "execution_count": 45,
     "metadata": {},
     "output_type": "execute_result"
    }
   ],
   "source": [
    "dataC['Temperature(F)'].value_counts().head(1) # or mode"
   ]
  },
  {
   "cell_type": "markdown",
   "id": "05140c59",
   "metadata": {
    "papermill": {
     "duration": 0.035674,
     "end_time": "2023-06-10T05:45:49.835765",
     "exception": false,
     "start_time": "2023-06-10T05:45:49.800091",
     "status": "completed"
    },
    "tags": []
   },
   "source": [
    "Most of the accidents happen when the teprqature was round 77°F that is 25°C, which does not tally with the information most of the accident data is belong winter months, and might be due to the fact 25°C is usuallay taken as environment temprature or room temprature by defalut"
   ]
  },
  {
   "cell_type": "markdown",
   "id": "e94073a4",
   "metadata": {
    "papermill": {
     "duration": 0.035475,
     "end_time": "2023-06-10T05:45:49.907164",
     "exception": false,
     "start_time": "2023-06-10T05:45:49.871689",
     "status": "completed"
    },
    "tags": []
   },
   "source": [
    "## Weather"
   ]
  },
  {
   "cell_type": "code",
   "execution_count": 46,
   "id": "8b5db5ce",
   "metadata": {
    "execution": {
     "iopub.execute_input": "2023-06-10T05:45:49.980906Z",
     "iopub.status.busy": "2023-06-10T05:45:49.980284Z",
     "iopub.status.idle": "2023-06-10T05:45:51.287505Z",
     "shell.execute_reply": "2023-06-10T05:45:51.286350Z"
    },
    "papermill": {
     "duration": 1.347538,
     "end_time": "2023-06-10T05:45:51.290438",
     "exception": false,
     "start_time": "2023-06-10T05:45:49.942900",
     "status": "completed"
    },
    "tags": []
   },
   "outputs": [
    {
     "data": {
      "text/plain": [
       "Fair                       2560802\n",
       "Mostly Cloudy              1016195\n",
       "Cloudy                      817082\n",
       "Clear                       808743\n",
       "Partly Cloudy               698972\n",
       "Overcast                    382866\n",
       "Light Rain                  352957\n",
       "Scattered Clouds            204829\n",
       "Light Snow                  128680\n",
       "Fog                          99238\n",
       "Rain                         84331\n",
       "Haze                         76223\n",
       "Fair / Windy                 35671\n",
       "Heavy Rain                   32309\n",
       "Light Drizzle                22684\n",
       "Thunder in the Vicinity      17611\n",
       "Cloudy / Windy               17035\n",
       "T-Storm                      16810\n",
       "Mostly Cloudy / Windy        16508\n",
       "Snow                         15537\n",
       "Thunder                      14202\n",
       "Light Rain with Thunder      13597\n",
       "Smoke                        12668\n",
       "Wintry Mix                   11703\n",
       "Partly Cloudy / Windy        10241\n",
       "Name: Weather_Condition, dtype: int64"
      ]
     },
     "execution_count": 46,
     "metadata": {},
     "output_type": "execute_result"
    }
   ],
   "source": [
    "Top_accI_wea = dataC[\"Weather_Condition\"].value_counts()[:25]\n",
    "Top_accI_wea"
   ]
  },
  {
   "cell_type": "code",
   "execution_count": 47,
   "id": "1dce0a2b",
   "metadata": {
    "execution": {
     "iopub.execute_input": "2023-06-10T05:45:51.364872Z",
     "iopub.status.busy": "2023-06-10T05:45:51.363994Z",
     "iopub.status.idle": "2023-06-10T05:45:52.445540Z",
     "shell.execute_reply": "2023-06-10T05:45:52.444423Z"
    },
    "papermill": {
     "duration": 1.121559,
     "end_time": "2023-06-10T05:45:52.448150",
     "exception": false,
     "start_time": "2023-06-10T05:45:51.326591",
     "status": "completed"
    },
    "tags": []
   },
   "outputs": [
    {
     "data": {
      "text/plain": [
       "<Axes: >"
      ]
     },
     "execution_count": 47,
     "metadata": {},
     "output_type": "execute_result"
    },
    {
     "data": {
      "image/png": "[encoded data removed]",
      "text/plain": [
       "<Figure size 2000x800 with 1 Axes>"
      ]
     },
     "metadata": {},
     "output_type": "display_data"
    }
   ],
   "source": [
    "plt.figure(figsize=(20, 8))\n",
    "sns.barplot(x = Top_accI_wea.index, y=Top_accI_wea.values )"
   ]
  },
  {
   "cell_type": "code",
   "execution_count": 48,
   "id": "8a159ccd",
   "metadata": {
    "execution": {
     "iopub.execute_input": "2023-06-10T05:45:52.524379Z",
     "iopub.status.busy": "2023-06-10T05:45:52.523955Z",
     "iopub.status.idle": "2023-06-10T05:45:53.387532Z",
     "shell.execute_reply": "2023-06-10T05:45:53.386174Z"
    },
    "papermill": {
     "duration": 0.904604,
     "end_time": "2023-06-10T05:45:53.390112",
     "exception": false,
     "start_time": "2023-06-10T05:45:52.485508",
     "status": "completed"
    },
    "tags": []
   },
   "outputs": [
    {
     "data": {
      "text/plain": [
       "array(['Light Rain', 'Overcast', 'Mostly Cloudy', 'Rain', 'Light Snow',\n",
       "       'Haze', 'Scattered Clouds', 'Partly Cloudy', 'Clear', 'Snow',\n",
       "       'Light Freezing Drizzle', 'Light Drizzle', 'Fog', 'Shallow Fog',\n",
       "       'Heavy Rain', 'Light Freezing Rain', 'Cloudy', 'Drizzle', nan,\n",
       "       'Light Rain Showers', 'Mist', 'Smoke', 'Patches of Fog',\n",
       "       'Light Freezing Fog', 'Light Haze', 'Light Thunderstorms and Rain',\n",
       "       'Thunderstorms and Rain', 'Fair', 'Volcanic Ash', 'Blowing Sand',\n",
       "       'Blowing Dust / Windy', 'Widespread Dust', 'Fair / Windy',\n",
       "       'Rain Showers', 'Mostly Cloudy / Windy', 'Light Rain / Windy',\n",
       "       'Hail', 'Heavy Drizzle', 'Showers in the Vicinity', 'Thunderstorm',\n",
       "       'Light Rain Shower', 'Light Rain with Thunder',\n",
       "       'Partly Cloudy / Windy', 'Thunder in the Vicinity', 'T-Storm',\n",
       "       'Heavy Thunderstorms and Rain', 'Thunder', 'Heavy T-Storm',\n",
       "       'Funnel Cloud', 'Heavy T-Storm / Windy', 'Blowing Snow',\n",
       "       'Light Thunderstorms and Snow', 'Heavy Snow', 'Low Drifting Snow',\n",
       "       'Light Ice Pellets', 'Ice Pellets', 'Squalls', 'N/A Precipitation',\n",
       "       'Cloudy / Windy', 'Light Fog', 'Sand', 'Snow Grains',\n",
       "       'Snow Showers', 'Heavy Thunderstorms and Snow', 'Rain / Windy',\n",
       "       'Heavy Rain / Windy', 'Heavy Ice Pellets', 'Light Snow / Windy',\n",
       "       'Heavy Freezing Rain', 'Small Hail', 'Heavy Rain Showers',\n",
       "       'Thunder / Windy', 'Drizzle and Fog', 'T-Storm / Windy',\n",
       "       'Blowing Dust', 'Smoke / Windy', 'Haze / Windy', 'Tornado',\n",
       "       'Light Drizzle / Windy', 'Widespread Dust / Windy', 'Wintry Mix',\n",
       "       'Wintry Mix / Windy', 'Light Snow with Thunder', 'Fog / Windy',\n",
       "       'Snow and Thunder', 'Light Snow Shower', 'Sleet',\n",
       "       'Light Snow and Sleet', 'Snow / Windy', 'Rain Shower',\n",
       "       'Snow and Sleet', 'Light Sleet', 'Heavy Snow / Windy',\n",
       "       'Freezing Drizzle', 'Light Freezing Rain / Windy',\n",
       "       'Thunder / Wintry Mix', 'Blowing Snow / Windy', 'Freezing Rain',\n",
       "       'Light Snow and Sleet / Windy', 'Snow and Sleet / Windy',\n",
       "       'Sleet / Windy', 'Heavy Freezing Rain / Windy', 'Squalls / Windy',\n",
       "       'Light Rain Shower / Windy', 'Snow and Thunder / Windy',\n",
       "       'Light Sleet / Windy', 'Sand / Dust Whirlwinds', 'Mist / Windy',\n",
       "       'Drizzle / Windy', 'Duststorm', 'Sand / Dust Whirls Nearby',\n",
       "       'Thunder and Hail', 'Heavy Sleet', 'Freezing Rain / Windy',\n",
       "       'Light Snow Shower / Windy', 'Partial Fog',\n",
       "       'Thunder / Wintry Mix / Windy', 'Patches of Fog / Windy',\n",
       "       'Rain and Sleet', 'Light Snow Grains', 'Partial Fog / Windy',\n",
       "       'Sand / Dust Whirlwinds / Windy', 'Heavy Snow with Thunder',\n",
       "       'Light Snow Showers', 'Heavy Blowing Snow', 'Light Hail',\n",
       "       'Heavy Smoke', 'Heavy Thunderstorms with Small Hail',\n",
       "       'Light Thunderstorm', 'Heavy Freezing Drizzle',\n",
       "       'Light Blowing Snow', 'Thunderstorms and Snow', 'Dust Whirls',\n",
       "       'Rain Shower / Windy', 'Sleet and Thunder',\n",
       "       'Heavy Sleet and Thunder', 'Drifting Snow / Windy',\n",
       "       'Shallow Fog / Windy', 'Thunder and Hail / Windy',\n",
       "       'Heavy Sleet / Windy', 'Sand / Windy', 'Heavy Rain Shower / Windy',\n",
       "       'Blowing Snow Nearby', 'Heavy Rain Shower', 'Drifting Snow'],\n",
       "      dtype=object)"
      ]
     },
     "execution_count": 48,
     "metadata": {},
     "output_type": "execute_result"
    }
   ],
   "source": [
    "dataC[\"Weather_Condition\"].unique()"
   ]
  },
  {
   "cell_type": "markdown",
   "id": "539f78c2",
   "metadata": {
    "papermill": {
     "duration": 0.036853,
     "end_time": "2023-06-10T05:45:53.464881",
     "exception": false,
     "start_time": "2023-06-10T05:45:53.428028",
     "status": "completed"
    },
    "tags": []
   },
   "source": [
    "even though most of the accidents are shown for a \"Fine day\", many rows assosiated with rain, windy,snow"
   ]
  },
  {
   "cell_type": "code",
   "execution_count": 49,
   "id": "ad750208",
   "metadata": {
    "execution": {
     "iopub.execute_input": "2023-06-10T05:45:53.540615Z",
     "iopub.status.busy": "2023-06-10T05:45:53.540208Z",
     "iopub.status.idle": "2023-06-10T05:45:53.550679Z",
     "shell.execute_reply": "2023-06-10T05:45:53.549645Z"
    },
    "papermill": {
     "duration": 0.051295,
     "end_time": "2023-06-10T05:45:53.553107",
     "exception": false,
     "start_time": "2023-06-10T05:45:53.501812",
     "status": "completed"
    },
    "tags": []
   },
   "outputs": [],
   "source": [
    "rain_related = ['Light Rain', 'Rain', 'Heavy Rain', 'Light Rain Showers', 'Rain Showers', 'Heavy Rain Showers', 'Heavy Rain / Windy', 'Thunderstorms and Rain', 'Thunderstorm', 'T-Storm', 'Heavy Thunderstorms and Rain', 'Thunder', 'T-Storm / Windy', 'Thunder / Windy', 'Thunder and Hail', 'Thunder and Hail / Windy']\n",
    "\n",
    "cloud_related = ['Overcast', 'Mostly Cloudy', 'Cloudy', 'Scattered Clouds', 'Partly Cloudy', 'Mostly Cloudy / Windy', 'Partly Cloudy / Windy', 'Cloudy / Windy','Wintry Mix / Windy', 'Sleet', 'Light Sleet', 'Sleet / Windy', 'Heavy Sleet', 'Heavy Sleet / Windy']\n",
    "\n",
    "snow_related = ['Light Snow', 'Snow', 'Light Snow Shower', 'Snow Showers', 'Heavy Snow', 'Heavy Snow / Windy', 'Light Snow / Windy', 'Snow / Windy', 'Snow and Sleet', 'Snow and Sleet / Windy', 'Heavy Thunderstorms and Snow']\n",
    "\n",
    "clear = ['Clear', 'Fair', 'Fair / Windy']\n",
    "\n",
    "drizzle_fog_related = ['Light Drizzle', 'Drizzle', 'Light Freezing Drizzle', 'Heavy Drizzle', 'Drizzle and Fog', 'Mist', 'Fog', 'Shallow Fog', 'Fog / Windy', 'Shallow Fog / Windy', 'Drizzle / Windy', 'Light Drizzle / Windy', 'Light Freezing Rain', 'Freezing Drizzle', 'Light Freezing Rain / Windy', 'Freezing Rain', 'Heavy Freezing Drizzle', 'Heavy Freezing Rain', 'Freezing Rain / Windy', 'Heavy Freezing Rain / Windy']\n",
    "\n",
    "haze_smoke_related = ['Haze', 'Smoke', 'Light Haze', 'Smoke / Windy', 'Haze / Windy','Sand', 'Blowing Sand', 'Sand / Dust Whirlwinds', 'Sand / Dust Whirlwinds / Windy', 'Duststorm', 'Dust Whirls', 'Blowing Dust', 'Blowing Dust / Windy', 'Widespread Dust', 'Widespread Dust / Windy', 'Squalls / Windy', 'Dust Whirls Nearby', 'Blowing Snow', 'Blowing Snow / Windy', 'Blowing Snow Nearby']\n",
    "\n",
    "other = ['Light Freezing Fog', 'Light Ice Pellets', 'Ice Pellets', 'Small Hail', 'Wintry Mix', 'Squalls', 'Drifting Snow', 'Low Drifting Snow', 'Drifting Snow']"
   ]
  },
  {
   "cell_type": "code",
   "execution_count": 50,
   "id": "a271fe0b",
   "metadata": {
    "execution": {
     "iopub.execute_input": "2023-06-10T05:45:53.630280Z",
     "iopub.status.busy": "2023-06-10T05:45:53.629642Z",
     "iopub.status.idle": "2023-06-10T05:45:59.932527Z",
     "shell.execute_reply": "2023-06-10T05:45:59.931292Z"
    },
    "papermill": {
     "duration": 6.345504,
     "end_time": "2023-06-10T05:45:59.936016",
     "exception": false,
     "start_time": "2023-06-10T05:45:53.590512",
     "status": "completed"
    },
    "tags": []
   },
   "outputs": [
    {
     "name": "stderr",
     "output_type": "stream",
     "text": [
      "/tmp/ipykernel_20/3622947396.py:18: SettingWithCopyWarning:\n",
      "\n",
      "\n",
      "A value is trying to be set on a copy of a slice from a DataFrame.\n",
      "Try using .loc[row_indexer,col_indexer] = value instead\n",
      "\n",
      "See the caveats in the documentation: https://pandas.pydata.org/pandas-docs/stable/user_guide/indexing.html#returning-a-view-versus-a-copy\n",
      "\n"
     ]
    },
    {
     "data": {
      "text/html": [
       "<div>\n",
       "<style scoped>\n",
       "    .dataframe tbody tr th:only-of-type {\n",
       "        vertical-align: middle;\n",
       "    }\n",
       "\n",
       "    .dataframe tbody tr th {\n",
       "        vertical-align: top;\n",
       "    }\n",
       "\n",
       "    .dataframe thead th {\n",
       "        text-align: right;\n",
       "    }\n",
       "</style>\n",
       "<table border=\"1\" class=\"dataframe\">\n",
       "  <thead>\n",
       "    <tr style=\"text-align: right;\">\n",
       "      <th></th>\n",
       "      <th>ID</th>\n",
       "      <th>Source</th>\n",
       "      <th>Severity</th>\n",
       "      <th>Start_Time</th>\n",
       "      <th>End_Time</th>\n",
       "      <th>Start_Lat</th>\n",
       "      <th>Start_Lng</th>\n",
       "      <th>Distance(mi)</th>\n",
       "      <th>Description</th>\n",
       "      <th>Street</th>\n",
       "      <th>...</th>\n",
       "      <th>Station</th>\n",
       "      <th>Stop</th>\n",
       "      <th>Traffic_Calming</th>\n",
       "      <th>Traffic_Signal</th>\n",
       "      <th>Turning_Loop</th>\n",
       "      <th>Sunrise_Sunset</th>\n",
       "      <th>Civil_Twilight</th>\n",
       "      <th>Nautical_Twilight</th>\n",
       "      <th>Astronomical_Twilight</th>\n",
       "      <th>Weather_Category</th>\n",
       "    </tr>\n",
       "  </thead>\n",
       "  <tbody>\n",
       "    <tr>\n",
       "      <th>0</th>\n",
       "      <td>A-1</td>\n",
       "      <td>Source2</td>\n",
       "      <td>3</td>\n",
       "      <td>2016-02-08 05:46:00</td>\n",
       "      <td>2016-02-08 11:00:00</td>\n",
       "      <td>39.865147</td>\n",
       "      <td>-84.058723</td>\n",
       "      <td>0.01</td>\n",
       "      <td>Right lane blocked due to accident on I-70 Eas...</td>\n",
       "      <td>I-70 E</td>\n",
       "      <td>...</td>\n",
       "      <td>False</td>\n",
       "      <td>False</td>\n",
       "      <td>False</td>\n",
       "      <td>False</td>\n",
       "      <td>False</td>\n",
       "      <td>Night</td>\n",
       "      <td>Night</td>\n",
       "      <td>Night</td>\n",
       "      <td>Night</td>\n",
       "      <td>Rain_related</td>\n",
       "    </tr>\n",
       "  </tbody>\n",
       "</table>\n",
       "<p>1 rows × 42 columns</p>\n",
       "</div>"
      ],
      "text/plain": [
       "    ID   Source  Severity          Start_Time             End_Time  Start_Lat  \\\n",
       "0  A-1  Source2         3 2016-02-08 05:46:00  2016-02-08 11:00:00  39.865147   \n",
       "\n",
       "   Start_Lng  Distance(mi)                                        Description  \\\n",
       "0 -84.058723          0.01  Right lane blocked due to accident on I-70 Eas...   \n",
       "\n",
       "   Street  ... Station   Stop Traffic_Calming Traffic_Signal Turning_Loop  \\\n",
       "0  I-70 E  ...   False  False           False          False        False   \n",
       "\n",
       "  Sunrise_Sunset Civil_Twilight  Nautical_Twilight  Astronomical_Twilight  \\\n",
       "0          Night          Night              Night                  Night   \n",
       "\n",
       "   Weather_Category  \n",
       "0      Rain_related  \n",
       "\n",
       "[1 rows x 42 columns]"
      ]
     },
     "execution_count": 50,
     "metadata": {},
     "output_type": "execute_result"
    }
   ],
   "source": [
    "def map_weather_condition(condition):\n",
    "    if condition in rain_related:\n",
    "        return 'Rain_related'\n",
    "    elif condition in cloud_related:\n",
    "        return 'Cloudy'\n",
    "    elif condition in snow_related:\n",
    "        return 'Snow_related'\n",
    "    elif condition in clear:\n",
    "        return 'Clear'\n",
    "    elif condition in drizzle_fog_related:\n",
    "        return 'Drizzle_Fog_related'\n",
    "    elif condition in haze_smoke_related:\n",
    "        return 'Haze_Smoke_related'\n",
    "    else:\n",
    "        return 'Other'\n",
    "\n",
    "# Apply the mapping function to create the new column\n",
    "dataC['Weather_Category'] = dataC['Weather_Condition'].map(map_weather_condition)\n",
    "dataC.head(1)"
   ]
  },
  {
   "cell_type": "code",
   "execution_count": 51,
   "id": "659179c5",
   "metadata": {
    "execution": {
     "iopub.execute_input": "2023-06-10T05:46:00.014796Z",
     "iopub.status.busy": "2023-06-10T05:46:00.014177Z",
     "iopub.status.idle": "2023-06-10T05:46:02.604233Z",
     "shell.execute_reply": "2023-06-10T05:46:02.602953Z"
    },
    "papermill": {
     "duration": 2.63329,
     "end_time": "2023-06-10T05:46:02.606801",
     "exception": false,
     "start_time": "2023-06-10T05:45:59.973511",
     "status": "completed"
    },
    "tags": []
   },
   "outputs": [
    {
     "data": {
      "text/html": [
       "<div>                            <div id=\"e45f750c-68c4-4632-adbe-be478c744a3e\" class=\"plotly-graph-div\" style=\"height:525px; width:100%;\"></div>            <script type=\"text/javascript\">                require([\"plotly\"], function(Plotly) {                    window.PLOTLYENV=window.PLOTLYENV || {};                                    if (document.getElementById(\"e45f750c-68c4-4632-adbe-be478c744a3e\")) {                    Plotly.newPlot(                        \"e45f750c-68c4-4632-adbe-be478c744a3e\",                        [{\"domain\":{\"x\":[0.0,1.0],\"y\":[0.0,1.0]},\"hovertemplate\":\"index=%{label}<br>value=%{value}<extra></extra>\",\"labels\":[\"Clear\",\"Cloudy\",\"Rain_related\",\"Other\",\"Snow_related\",\"Drizzle_Fog_related\",\"Haze_Smoke_related\"],\"legendgroup\":\"\",\"name\":\"\",\"showlegend\":true,\"values\":[44.06110765056751,40.94668310130151,6.637213371885544,3.2836447003090163,2.0538549147468412,1.813572134132913,1.2039241270566692],\"type\":\"pie\"}],                        {\"template\":{\"data\":{\"histogram2dcontour\":[{\"type\":\"histogram2dcontour\",\"colorbar\":{\"outlinewidth\":0,\"ticks\":\"\"},\"colorscale\":[[0.0,\"#0d0887\"],[0.1111111111111111,\"#46039f\"],[0.2222222222222222,\"#7201a8\"],[0.3333333333333333,\"#9c179e\"],[0.4444444444444444,\"#bd3786\"],[0.5555555555555556,\"#d8576b\"],[0.6666666666666666,\"#ed7953\"],[0.7777777777777778,\"#fb9f3a\"],[0.8888888888888888,\"#fdca26\"],[1.0,\"#f0f921\"]]}],\"choropleth\":[{\"type\":\"choropleth\",\"colorbar\":{\"outlinewidth\":0,\"ticks\":\"\"}}],\"histogram2d\":[{\"type\":\"histogram2d\",\"colorbar\":{\"outlinewidth\":0,\"ticks\":\"\"},\"colorscale\":[[0.0,\"#0d0887\"],[0.1111111111111111,\"#46039f\"],[0.2222222222222222,\"#7201a8\"],[0.3333333333333333,\"#9c179e\"],[0.4444444444444444,\"#bd3786\"],[0.5555555555555556,\"#d8576b\"],[0.6666666666666666,\"#ed7953\"],[0.7777777777777778,\"#fb9f3a\"],[0.8888888888888888,\"#fdca26\"],[1.0,\"#f0f921\"]]}],\"heatmap\":[{\"type\":\"heatmap\",\"colorbar\":{\"outlinewidth\":0,\"ticks\":\"\"},\"colorscale\":[[0.0,\"#0d0887\"],[0.1111111111111111,\"#46039f\"],[0.2222222222222222,\"#7201a8\"],[0.3333333333333333,\"#9c179e\"],[0.4444444444444444,\"#bd3786\"],[0.5555555555555556,\"#d8576b\"],[0.6666666666666666,\"#ed7953\"],[0.7777777777777778,\"#fb9f3a\"],[0.8888888888888888,\"#fdca26\"],[1.0,\"#f0f921\"]]}],\"heatmapgl\":[{\"type\":\"heatmapgl\",\"colorbar\":{\"outlinewidth\":0,\"ticks\":\"\"},\"colorscale\":[[0.0,\"#0d0887\"],[0.1111111111111111,\"#46039f\"],[0.2222222222222222,\"#7201a8\"],[0.3333333333333333,\"#9c179e\"],[0.4444444444444444,\"#bd3786\"],[0.5555555555555556,\"#d8576b\"],[0.6666666666666666,\"#ed7953\"],[0.7777777777777778,\"#fb9f3a\"],[0.8888888888888888,\"#fdca26\"],[1.0,\"#f0f921\"]]}],\"contourcarpet\":[{\"type\":\"contourcarpet\",\"colorbar\":{\"outlinewidth\":0,\"ticks\":\"\"}}],\"contour\":[{\"type\":\"contour\",\"colorbar\":{\"outlinewidth\":0,\"ticks\":\"\"},\"colorscale\":[[0.0,\"#0d0887\"],[0.1111111111111111,\"#46039f\"],[0.2222222222222222,\"#7201a8\"],[0.3333333333333333,\"#9c179e\"],[0.4444444444444444,\"#bd3786\"],[0.5555555555555556,\"#d8576b\"],[0.6666666666666666,\"#ed7953\"],[0.7777777777777778,\"#fb9f3a\"],[0.8888888888888888,\"#fdca26\"],[1.0,\"#f0f921\"]]}],\"surface\":[{\"type\":\"surface\",\"colorbar\":{\"outlinewidth\":0,\"ticks\":\"\"},\"colorscale\":[[0.0,\"#0d0887\"],[0.1111111111111111,\"#46039f\"],[0.2222222222222222,\"#7201a8\"],[0.3333333333333333,\"#9c179e\"],[0.4444444444444444,\"#bd3786\"],[0.5555555555555556,\"#d8576b\"],[0.6666666666666666,\"#ed7953\"],[0.7777777777777778,\"#fb9f3a\"],[0.8888888888888888,\"#fdca26\"],[1.0,\"#f0f921\"]]}],\"mesh3d\":[{\"type\":\"mesh3d\",\"colorbar\":{\"outlinewidth\":0,\"ticks\":\"\"}}],\"scatter\":[{\"fillpattern\":{\"fillmode\":\"overlay\",\"size\":10,\"solidity\":0.2},\"type\":\"scatter\"}],\"parcoords\":[{\"type\":\"parcoords\",\"line\":{\"colorbar\":{\"outlinewidth\":0,\"ticks\":\"\"}}}],\"scatterpolargl\":[{\"type\":\"scatterpolargl\",\"marker\":{\"colorbar\":{\"outlinewidth\":0,\"ticks\":\"\"}}}],\"bar\":[{\"error_x\":{\"color\":\"#2a3f5f\"},\"error_y\":{\"color\":\"#2a3f5f\"},\"marker\":{\"line\":{\"color\":\"#E5ECF6\",\"width\":0.5},\"pattern\":{\"fillmode\":\"overlay\",\"size\":10,\"solidity\":0.2}},\"type\":\"bar\"}],\"scattergeo\":[{\"type\":\"scattergeo\",\"marker\":{\"colorbar\":{\"outlinewidth\":0,\"ticks\":\"\"}}}],\"scatterpolar\":[{\"type\":\"scatterpolar\",\"marker\":{\"colorbar\":{\"outlinewidth\":0,\"ticks\":\"\"}}}],\"histogram\":[{\"marker\":{\"pattern\":{\"fillmode\":\"overlay\",\"size\":10,\"solidity\":0.2}},\"type\":\"histogram\"}],\"scattergl\":[{\"type\":\"scattergl\",\"marker\":{\"colorbar\":{\"outlinewidth\":0,\"ticks\":\"\"}}}],\"scatter3d\":[{\"type\":\"scatter3d\",\"line\":{\"colorbar\":{\"outlinewidth\":0,\"ticks\":\"\"}},\"marker\":{\"colorbar\":{\"outlinewidth\":0,\"ticks\":\"\"}}}],\"scattermapbox\":[{\"type\":\"scattermapbox\",\"marker\":{\"colorbar\":{\"outlinewidth\":0,\"ticks\":\"\"}}}],\"scatterternary\":[{\"type\":\"scatterternary\",\"marker\":{\"colorbar\":{\"outlinewidth\":0,\"ticks\":\"\"}}}],\"scattercarpet\":[{\"type\":\"scattercarpet\",\"marker\":{\"colorbar\":{\"outlinewidth\":0,\"ticks\":\"\"}}}],\"carpet\":[{\"aaxis\":{\"endlinecolor\":\"#2a3f5f\",\"gridcolor\":\"white\",\"linecolor\":\"white\",\"minorgridcolor\":\"white\",\"startlinecolor\":\"#2a3f5f\"},\"baxis\":{\"endlinecolor\":\"#2a3f5f\",\"gridcolor\":\"white\",\"linecolor\":\"white\",\"minorgridcolor\":\"white\",\"startlinecolor\":\"#2a3f5f\"},\"type\":\"carpet\"}],\"table\":[{\"cells\":{\"fill\":{\"color\":\"#EBF0F8\"},\"line\":{\"color\":\"white\"}},\"header\":{\"fill\":{\"color\":\"#C8D4E3\"},\"line\":{\"color\":\"white\"}},\"type\":\"table\"}],\"barpolar\":[{\"marker\":{\"line\":{\"color\":\"#E5ECF6\",\"width\":0.5},\"pattern\":{\"fillmode\":\"overlay\",\"size\":10,\"solidity\":0.2}},\"type\":\"barpolar\"}],\"pie\":[{\"automargin\":true,\"type\":\"pie\"}]},\"layout\":{\"autotypenumbers\":\"strict\",\"colorway\":[\"#636efa\",\"#EF553B\",\"#00cc96\",\"#ab63fa\",\"#FFA15A\",\"#19d3f3\",\"#FF6692\",\"#B6E880\",\"#FF97FF\",\"#FECB52\"],\"font\":{\"color\":\"#2a3f5f\"},\"hovermode\":\"closest\",\"hoverlabel\":{\"align\":\"left\"},\"paper_bgcolor\":\"white\",\"plot_bgcolor\":\"#E5ECF6\",\"polar\":{\"bgcolor\":\"#E5ECF6\",\"angularaxis\":{\"gridcolor\":\"white\",\"linecolor\":\"white\",\"ticks\":\"\"},\"radialaxis\":{\"gridcolor\":\"white\",\"linecolor\":\"white\",\"ticks\":\"\"}},\"ternary\":{\"bgcolor\":\"#E5ECF6\",\"aaxis\":{\"gridcolor\":\"white\",\"linecolor\":\"white\",\"ticks\":\"\"},\"baxis\":{\"gridcolor\":\"white\",\"linecolor\":\"white\",\"ticks\":\"\"},\"caxis\":{\"gridcolor\":\"white\",\"linecolor\":\"white\",\"ticks\":\"\"}},\"coloraxis\":{\"colorbar\":{\"outlinewidth\":0,\"ticks\":\"\"}},\"colorscale\":{\"sequential\":[[0.0,\"#0d0887\"],[0.1111111111111111,\"#46039f\"],[0.2222222222222222,\"#7201a8\"],[0.3333333333333333,\"#9c179e\"],[0.4444444444444444,\"#bd3786\"],[0.5555555555555556,\"#d8576b\"],[0.6666666666666666,\"#ed7953\"],[0.7777777777777778,\"#fb9f3a\"],[0.8888888888888888,\"#fdca26\"],[1.0,\"#f0f921\"]],\"sequentialminus\":[[0.0,\"#0d0887\"],[0.1111111111111111,\"#46039f\"],[0.2222222222222222,\"#7201a8\"],[0.3333333333333333,\"#9c179e\"],[0.4444444444444444,\"#bd3786\"],[0.5555555555555556,\"#d8576b\"],[0.6666666666666666,\"#ed7953\"],[0.7777777777777778,\"#fb9f3a\"],[0.8888888888888888,\"#fdca26\"],[1.0,\"#f0f921\"]],\"diverging\":[[0,\"#8e0152\"],[0.1,\"#c51b7d\"],[0.2,\"#de77ae\"],[0.3,\"#f1b6da\"],[0.4,\"#fde0ef\"],[0.5,\"#f7f7f7\"],[0.6,\"#e6f5d0\"],[0.7,\"#b8e186\"],[0.8,\"#7fbc41\"],[0.9,\"#4d9221\"],[1,\"#276419\"]]},\"xaxis\":{\"gridcolor\":\"white\",\"linecolor\":\"white\",\"ticks\":\"\",\"title\":{\"standoff\":15},\"zerolinecolor\":\"white\",\"automargin\":true,\"zerolinewidth\":2},\"yaxis\":{\"gridcolor\":\"white\",\"linecolor\":\"white\",\"ticks\":\"\",\"title\":{\"standoff\":15},\"zerolinecolor\":\"white\",\"automargin\":true,\"zerolinewidth\":2},\"scene\":{\"xaxis\":{\"backgroundcolor\":\"#E5ECF6\",\"gridcolor\":\"white\",\"linecolor\":\"white\",\"showbackground\":true,\"ticks\":\"\",\"zerolinecolor\":\"white\",\"gridwidth\":2},\"yaxis\":{\"backgroundcolor\":\"#E5ECF6\",\"gridcolor\":\"white\",\"linecolor\":\"white\",\"showbackground\":true,\"ticks\":\"\",\"zerolinecolor\":\"white\",\"gridwidth\":2},\"zaxis\":{\"backgroundcolor\":\"#E5ECF6\",\"gridcolor\":\"white\",\"linecolor\":\"white\",\"showbackground\":true,\"ticks\":\"\",\"zerolinecolor\":\"white\",\"gridwidth\":2}},\"shapedefaults\":{\"line\":{\"color\":\"#2a3f5f\"}},\"annotationdefaults\":{\"arrowcolor\":\"#2a3f5f\",\"arrowhead\":0,\"arrowwidth\":1},\"geo\":{\"bgcolor\":\"white\",\"landcolor\":\"#E5ECF6\",\"subunitcolor\":\"white\",\"showland\":true,\"showlakes\":true,\"lakecolor\":\"white\"},\"title\":{\"x\":0.05},\"mapbox\":{\"style\":\"light\"}}},\"legend\":{\"tracegroupgap\":0},\"title\":{\"text\":\"Weather Category Percentage\"}},                        {\"responsive\": true}                    ).then(function(){\n",
       "                            \n",
       "var gd = document.getElementById('e45f750c-68c4-4632-adbe-be478c744a3e');\n",
       "var x = new MutationObserver(function (mutations, observer) {{\n",
       "        var display = window.getComputedStyle(gd).display;\n",
       "        if (!display || display === 'none') {{\n",
       "            console.log([gd, 'removed!']);\n",
       "            Plotly.purge(gd);\n",
       "            observer.disconnect();\n",
       "        }}\n",
       "}});\n",
       "\n",
       "// Listen for the removal of the full notebook cells\n",
       "var notebookContainer = gd.closest('#notebook-container');\n",
       "if (notebookContainer) {{\n",
       "    x.observe(notebookContainer, {childList: true});\n",
       "}}\n",
       "\n",
       "// Listen for the clearing of the current output cell\n",
       "var outputEl = gd.closest('.output');\n",
       "if (outputEl) {{\n",
       "    x.observe(outputEl, {childList: true});\n",
       "}}\n",
       "\n",
       "                        })                };                });            </script>        </div>"
      ]
     },
     "metadata": {},
     "output_type": "display_data"
    }
   ],
   "source": [
    "category_counts = dataC['Weather_Category'].value_counts()\n",
    "category_percents = category_counts/len(dataC)*100\n",
    "fig = px.pie(category_percents, names = category_percents.index, values = category_percents.values, title = \"Weather Category Percentage\") \n",
    "fig.show()"
   ]
  },
  {
   "cell_type": "markdown",
   "id": "8366849b",
   "metadata": {
    "papermill": {
     "duration": 0.037356,
     "end_time": "2023-06-10T05:46:02.681893",
     "exception": false,
     "start_time": "2023-06-10T05:46:02.644537",
     "status": "completed"
    },
    "tags": []
   },
   "source": [
    "Most of the accidents happen during a relativly Clear day and second most on cloudy days."
   ]
  },
  {
   "cell_type": "markdown",
   "id": "8eac6a48",
   "metadata": {
    "papermill": {
     "duration": 0.037544,
     "end_time": "2023-06-10T05:46:02.756809",
     "exception": false,
     "start_time": "2023-06-10T05:46:02.719265",
     "status": "completed"
    },
    "tags": []
   },
   "source": [
    "## Severity"
   ]
  },
  {
   "cell_type": "code",
   "execution_count": 52,
   "id": "0fbd2d1d",
   "metadata": {
    "execution": {
     "iopub.execute_input": "2023-06-10T05:46:02.833681Z",
     "iopub.status.busy": "2023-06-10T05:46:02.833314Z",
     "iopub.status.idle": "2023-06-10T05:46:02.885831Z",
     "shell.execute_reply": "2023-06-10T05:46:02.884653Z"
    },
    "papermill": {
     "duration": 0.093984,
     "end_time": "2023-06-10T05:46:02.888340",
     "exception": false,
     "start_time": "2023-06-10T05:46:02.794356",
     "status": "completed"
    },
    "tags": []
   },
   "outputs": [
    {
     "data": {
      "text/plain": [
       "array([3, 2, 1, 4])"
      ]
     },
     "execution_count": 52,
     "metadata": {},
     "output_type": "execute_result"
    }
   ],
   "source": [
    "dataC[\"Severity\"].unique()"
   ]
  },
  {
   "cell_type": "markdown",
   "id": "f6f02dd7",
   "metadata": {
    "papermill": {
     "duration": 0.039804,
     "end_time": "2023-06-10T05:46:02.966831",
     "exception": false,
     "start_time": "2023-06-10T05:46:02.927027",
     "status": "completed"
    },
    "tags": []
   },
   "source": [
    "There are 4 level of Severity , with 1 for lowest impact and 4 for highest"
   ]
  },
  {
   "cell_type": "code",
   "execution_count": 53,
   "id": "bf7e109b",
   "metadata": {
    "execution": {
     "iopub.execute_input": "2023-06-10T05:46:03.045058Z",
     "iopub.status.busy": "2023-06-10T05:46:03.044639Z",
     "iopub.status.idle": "2023-06-10T05:46:03.049614Z",
     "shell.execute_reply": "2023-06-10T05:46:03.048143Z"
    },
    "papermill": {
     "duration": 0.047606,
     "end_time": "2023-06-10T05:46:03.052106",
     "exception": false,
     "start_time": "2023-06-10T05:46:03.004500",
     "status": "completed"
    },
    "tags": []
   },
   "outputs": [],
   "source": [
    "#fig = px.violin(dataC, x=dataC.Start_Time.dt.month, y='Severity', \n",
    "               # points=\"all\", box=True, hover_data=['Severity'],\n",
    "              #  labels={'x': 'Month', 'y': 'Severity'})\n",
    "\n",
    "#fig.show()"
   ]
  },
  {
   "cell_type": "code",
   "execution_count": 54,
   "id": "46828041",
   "metadata": {
    "execution": {
     "iopub.execute_input": "2023-06-10T05:46:03.130239Z",
     "iopub.status.busy": "2023-06-10T05:46:03.129835Z",
     "iopub.status.idle": "2023-06-10T05:46:03.134134Z",
     "shell.execute_reply": "2023-06-10T05:46:03.133017Z"
    },
    "papermill": {
     "duration": 0.046015,
     "end_time": "2023-06-10T05:46:03.136625",
     "exception": false,
     "start_time": "2023-06-10T05:46:03.090610",
     "status": "completed"
    },
    "tags": []
   },
   "outputs": [],
   "source": [
    "#fig = px.box(dataC, x=dataC.Start_Time.dt.dayofweek, y='Severity',\n",
    "#             labels={'x': 'Week', 'y': 'Severity'})\n",
    "\n",
    "#fig.show()"
   ]
  },
  {
   "cell_type": "markdown",
   "id": "458b937c",
   "metadata": {
    "papermill": {
     "duration": 0.037244,
     "end_time": "2023-06-10T05:46:03.211903",
     "exception": false,
     "start_time": "2023-06-10T05:46:03.174659",
     "status": "completed"
    },
    "tags": []
   },
   "source": [
    "# FAQ"
   ]
  },
  {
   "cell_type": "markdown",
   "id": "1f478011",
   "metadata": {
    "papermill": {
     "duration": 0.037085,
     "end_time": "2023-06-10T05:46:03.286302",
     "exception": false,
     "start_time": "2023-06-10T05:46:03.249217",
     "status": "completed"
    },
    "tags": []
   },
   "source": [
    "1. Are there more accidents in warmer or colder weather\n",
    "2. which are the 5 states that have number of accidents? and per capita\n",
    "3. Top 100 cities where accidents happen, and which state they belong to\n",
    "4. At what time of the day does accidents happens the most?\n",
    "5. Which day of the week does accidents happens the most?\n",
    "7. which moths have most of the accidents\n",
    "8. what is the trend of accidents yeay over year"
   ]
  },
  {
   "cell_type": "markdown",
   "id": "07c7c0e1",
   "metadata": {
    "papermill": {
     "duration": 0.03695,
     "end_time": "2023-06-10T05:46:03.360436",
     "exception": false,
     "start_time": "2023-06-10T05:46:03.323486",
     "status": "completed"
    },
    "tags": []
   },
   "source": [
    "# Summay and conclusion"
   ]
  },
  {
   "cell_type": "markdown",
   "id": "bcd8325a",
   "metadata": {
    "papermill": {
     "duration": 0.037715,
     "end_time": "2023-06-10T05:46:03.435540",
     "exception": false,
     "start_time": "2023-06-10T05:46:03.397825",
     "status": "completed"
    },
    "tags": []
   },
   "source": [
    "Insights\n",
    "- No data from Alaska and Hawai\n",
    "- The number of accidents per city show exponental trend\n",
    "- Less than 9% of cities have accidents more than 1000\n",
    "- Almost 4250 cities with less than 10 accidents \n",
    "- High peercentage of accidents occure between 7am-9am and 3-5 pm ( work starting and ending time)"
   ]
  }
 ],
 "metadata": {
  "kernelspec": {
   "display_name": "Python 3",
   "language": "python",
   "name": "python3"
  },
  "language_info": {
   "codemirror_mode": {
    "name": "ipython",
    "version": 3
   },
   "file_extension": ".py",
   "mimetype": "text/x-python",
   "name": "python",
   "nbconvert_exporter": "python",
   "pygments_lexer": "ipython3",
   "version": "3.10.10"
  },
  "papermill": {
   "default_parameters": {},
   "duration": 345.4338,
   "end_time": "2023-06-10T05:46:06.394991",
   "environment_variables": {},
   "exception": null,
   "input_path": "__notebook__.ipynb",
   "output_path": "__notebook__.ipynb",
   "parameters": {},
   "start_time": "2023-06-10T05:40:20.961191",
   "version": "2.4.0"
  }
 },
 "nbformat": 4,
 "nbformat_minor": 5
}
